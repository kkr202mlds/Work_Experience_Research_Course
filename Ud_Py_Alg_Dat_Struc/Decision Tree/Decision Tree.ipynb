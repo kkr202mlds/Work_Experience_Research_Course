{
  "nbformat": 4,
  "nbformat_minor": 0,
  "metadata": {
    "kernelspec": {
      "name": "python3",
      "display_name": "Python 3"
    },
    "language_info": {
      "codemirror_mode": {
        "name": "ipython",
        "version": 3
      },
      "file_extension": ".py",
      "mimetype": "text/x-python",
      "name": "python",
      "nbconvert_exporter": "python",
      "pygments_lexer": "ipython3",
      "version": "3.7.4"
    },
    "colab": {
      "provenance": [],
      "collapsed_sections": [
        "IzpFkA2DinHg"
      ]
    },
    "accelerator": "GPU"
  },
  "cells": [
    {
      "cell_type": "markdown",
      "metadata": {
        "id": "yWrqPJloinF3"
      },
      "source": [
        "# Decision Tree\n",
        "\n",
        "CART (Classification  and Regression Tree)"
      ]
    },
    {
      "cell_type": "markdown",
      "metadata": {
        "id": "OBENBm8binF4"
      },
      "source": [
        "## What is Decision Tree?"
      ]
    },
    {
      "cell_type": "markdown",
      "metadata": {
        "id": "xYmUITqsinF5"
      },
      "source": [
        "<img src='img//tree.png' width=50%>"
      ]
    },
    {
      "cell_type": "markdown",
      "metadata": {
        "id": "pPVLQaG8inF5"
      },
      "source": [
        "***\n",
        "* Supervised Learning\n",
        "\n",
        "* Works for both classification and regression\n",
        "\n",
        "* Foundation of Random Forests\n",
        "\n",
        "* Attractive because of interpretability\n",
        "\n"
      ]
    },
    {
      "cell_type": "markdown",
      "metadata": {
        "id": "kDnZUx14inF6"
      },
      "source": [
        "***\n",
        "\n",
        "Decision Tree works by:\n",
        "\n",
        "* Split based on set impurity criteria\n",
        "* Stopping criteria\n"
      ]
    },
    {
      "cell_type": "markdown",
      "metadata": {
        "id": "ifUUeVAwinF7"
      },
      "source": [
        "***\n",
        "\n",
        "Source: [Scikit-Learn](http://scikit-learn.org/stable/modules/tree.html#tree)\n",
        "\n",
        "Some **advantages** of decision trees are:\n",
        "* Simple to understand and to interpret. Trees can be visualised.\n",
        "* Requires little data preparation.\n",
        "* Able to handle both numerical and categorical data.\n",
        "* Possible to validate a model using statistical tests.\n",
        "* Performs well even if its assumptions are somewhat violated by the true model from which the data were generated.\n",
        "\n",
        "The **disadvantages** of decision trees include:\n",
        "* Overfitting. Mechanisms such as pruning (not currently supported), setting the minimum number of samples required at a leaf node or setting the maximum depth of the tree are necessary to avoid this problem.\n",
        "* Decision trees can be unstable. Mitigant: Use decision trees within an ensemble.\n",
        "* Cannot guarantee to return the globally optimal decision tree. Mitigant: Training multiple trees in an ensemble learner\n",
        "* Decision tree learners create biased trees if some classes dominate. Recommendation: Balance the dataset prior to fitting\n"
      ]
    },
    {
      "cell_type": "markdown",
      "metadata": {
        "id": "ciOjNVE2inF8"
      },
      "source": [
        "***\n",
        "\n",
        "## Questions:\n",
        "\n",
        "1. What is a decision tree?\n",
        "\n",
        "2. Where can you apply decision tree to? numerical problems or categorical problems?\n",
        "\n",
        "3. Decision tree is also know by what other name?\n",
        "\n",
        "4. How does a decision tree work?\n",
        "\n",
        "5. Decision Tree is a foundation of what machine learning algorithm\n",
        "\n",
        "6. List and explain 3 advantages of decision tree\n",
        "\n",
        "7. List and explain 3 disadvantages of decision tree"
      ]
    },
    {
      "cell_type": "markdown",
      "metadata": {
        "id": "SojBIwdJinF8"
      },
      "source": [
        "# Classification"
      ]
    },
    {
      "cell_type": "markdown",
      "metadata": {
        "id": "qHerpI7dinF9"
      },
      "source": [
        "## Training a Decision Tree with Scikit-Learn Library"
      ]
    },
    {
      "cell_type": "code",
      "metadata": {
        "id": "q8wkwbbqinF-",
        "outputId": "15ee3d5f-d035-4879-c4ae-166dae1c8d8b",
        "colab": {
          "base_uri": "https://localhost:8080/",
          "height": 102
        }
      },
      "source": [
        "import numpy as np\n",
        "import pandas as pd\n",
        "import matplotlib.pyplot as plt\n",
        "import seaborn\n",
        "%matplotlib inline\n",
        "\n",
        "print(np.__version__)\n",
        "print(pd.__version__)\n",
        "import sys\n",
        "print(sys.version)\n",
        "import sklearn\n",
        "print(sklearn.__version__)"
      ],
      "execution_count": null,
      "outputs": [
        {
          "output_type": "stream",
          "text": [
            "1.17.3\n",
            "0.25.2\n",
            "3.6.8 (default, Oct  7 2019, 12:59:55) \n",
            "[GCC 8.3.0]\n",
            "0.21.3\n"
          ],
          "name": "stdout"
        }
      ]
    },
    {
      "cell_type": "code",
      "metadata": {
        "jupyter": {
          "outputs_hidden": true
        },
        "id": "SE6ndzifinGD"
      },
      "source": [
        "from sklearn import tree"
      ],
      "execution_count": null,
      "outputs": []
    },
    {
      "cell_type": "code",
      "metadata": {
        "jupyter": {
          "outputs_hidden": true
        },
        "id": "_1Zk3qN-inGF"
      },
      "source": [
        "X = [[0, 0], [1, 2]]\n",
        "y = [0, 1]"
      ],
      "execution_count": null,
      "outputs": []
    },
    {
      "cell_type": "code",
      "metadata": {
        "jupyter": {
          "outputs_hidden": true
        },
        "id": "3koTFqksinGH"
      },
      "source": [
        "clf = tree.DecisionTreeClassifier()"
      ],
      "execution_count": null,
      "outputs": []
    },
    {
      "cell_type": "code",
      "metadata": {
        "jupyter": {
          "outputs_hidden": true
        },
        "id": "tG8u_MnkinGJ"
      },
      "source": [
        "clf = clf.fit(X, y)"
      ],
      "execution_count": null,
      "outputs": []
    },
    {
      "cell_type": "code",
      "metadata": {
        "id": "csI6fZqPinGL",
        "outputId": "048fe110-1c5e-443a-9dfd-1758db40221e",
        "colab": {
          "base_uri": "https://localhost:8080/",
          "height": 34
        }
      },
      "source": [
        "clf.predict([[2., 2.]])"
      ],
      "execution_count": null,
      "outputs": [
        {
          "output_type": "execute_result",
          "data": {
            "text/plain": [
              "array([1])"
            ]
          },
          "metadata": {
            "tags": []
          },
          "execution_count": 6
        }
      ]
    },
    {
      "cell_type": "code",
      "metadata": {
        "id": "jVfn68T1inGN",
        "outputId": "f5013598-9628-482d-9d69-b46fc14a37ad",
        "colab": {
          "base_uri": "https://localhost:8080/",
          "height": 34
        }
      },
      "source": [
        "clf.predict_proba([[2. , 2.]])"
      ],
      "execution_count": null,
      "outputs": [
        {
          "output_type": "execute_result",
          "data": {
            "text/plain": [
              "array([[0., 1.]])"
            ]
          },
          "metadata": {
            "tags": []
          },
          "execution_count": 7
        }
      ]
    },
    {
      "cell_type": "code",
      "metadata": {
        "id": "6SFRpoENinGi",
        "outputId": "4fce546c-1e2c-4d76-f16a-f712abfc02a7",
        "colab": {
          "base_uri": "https://localhost:8080/",
          "height": 34
        }
      },
      "source": [
        "clf.predict([[0.4, 1.2]])"
      ],
      "execution_count": null,
      "outputs": [
        {
          "output_type": "execute_result",
          "data": {
            "text/plain": [
              "array([0])"
            ]
          },
          "metadata": {
            "tags": []
          },
          "execution_count": 8
        }
      ]
    },
    {
      "cell_type": "code",
      "metadata": {
        "id": "PdrMLc9AinGl",
        "outputId": "2e5aa8f6-6c35-4b79-bca1-5dee7909f39c",
        "colab": {
          "base_uri": "https://localhost:8080/",
          "height": 34
        }
      },
      "source": [
        "clf.predict_proba([[0.4, 1.2]])"
      ],
      "execution_count": null,
      "outputs": [
        {
          "output_type": "execute_result",
          "data": {
            "text/plain": [
              "array([[1., 0.]])"
            ]
          },
          "metadata": {
            "tags": []
          },
          "execution_count": 9
        }
      ]
    },
    {
      "cell_type": "code",
      "metadata": {
        "id": "-r0of5uLinGn",
        "outputId": "893fd4d8-af34-4c58-801d-79c099ec2e6f",
        "colab": {
          "base_uri": "https://localhost:8080/",
          "height": 34
        }
      },
      "source": [
        "clf.predict_proba([[0, 0.2]])"
      ],
      "execution_count": null,
      "outputs": [
        {
          "output_type": "execute_result",
          "data": {
            "text/plain": [
              "array([[1., 0.]])"
            ]
          },
          "metadata": {
            "tags": []
          },
          "execution_count": 10
        }
      ]
    },
    {
      "cell_type": "markdown",
      "metadata": {
        "id": "PUShkGVkinGp"
      },
      "source": [
        "`DecisionTreeClassifier` is capable of both binary (where the labels are [-1, 1]) classification and multiclass (where the labels are [0, …, K-1]) classification."
      ]
    },
    {
      "cell_type": "markdown",
      "metadata": {
        "id": "88nhSMXhinGq"
      },
      "source": [
        "## Applying to Iris Dataset"
      ]
    },
    {
      "cell_type": "code",
      "metadata": {
        "jupyter": {
          "outputs_hidden": true
        },
        "id": "JH8geVI7inGq"
      },
      "source": [
        "from sklearn.datasets import load_iris\n",
        "from sklearn import tree\n",
        "iris = load_iris()"
      ],
      "execution_count": null,
      "outputs": []
    },
    {
      "cell_type": "code",
      "metadata": {
        "id": "YR4C-0NcinGs",
        "outputId": "a85359a4-9526-47c4-ff68-da60e385a981",
        "colab": {
          "base_uri": "https://localhost:8080/",
          "height": 102
        }
      },
      "source": [
        "iris.data[0:5]"
      ],
      "execution_count": null,
      "outputs": [
        {
          "output_type": "execute_result",
          "data": {
            "text/plain": [
              "array([[5.1, 3.5, 1.4, 0.2],\n",
              "       [4.9, 3. , 1.4, 0.2],\n",
              "       [4.7, 3.2, 1.3, 0.2],\n",
              "       [4.6, 3.1, 1.5, 0.2],\n",
              "       [5. , 3.6, 1.4, 0.2]])"
            ]
          },
          "metadata": {
            "tags": []
          },
          "execution_count": 12
        }
      ]
    },
    {
      "cell_type": "code",
      "metadata": {
        "id": "j2pG3okPinGu",
        "outputId": "0db85c3a-a1f3-45ac-90c6-014e00a6cd59",
        "colab": {
          "base_uri": "https://localhost:8080/",
          "height": 85
        }
      },
      "source": [
        "iris.feature_names"
      ],
      "execution_count": null,
      "outputs": [
        {
          "output_type": "execute_result",
          "data": {
            "text/plain": [
              "['sepal length (cm)',\n",
              " 'sepal width (cm)',\n",
              " 'petal length (cm)',\n",
              " 'petal width (cm)']"
            ]
          },
          "metadata": {
            "tags": []
          },
          "execution_count": 13
        }
      ]
    },
    {
      "cell_type": "code",
      "metadata": {
        "jupyter": {
          "outputs_hidden": true
        },
        "id": "xRDqKyxginGw"
      },
      "source": [
        "X = iris.data[:, 2:]"
      ],
      "execution_count": null,
      "outputs": []
    },
    {
      "cell_type": "code",
      "metadata": {
        "jupyter": {
          "outputs_hidden": true
        },
        "id": "U9BeJOURinGy"
      },
      "source": [
        "y = iris.target"
      ],
      "execution_count": null,
      "outputs": []
    },
    {
      "cell_type": "code",
      "metadata": {
        "id": "fQ4HRhjJinG0",
        "outputId": "fb77a088-dfe2-417d-f5e3-336538c84b99",
        "colab": {
          "base_uri": "https://localhost:8080/",
          "height": 136
        }
      },
      "source": [
        "y"
      ],
      "execution_count": null,
      "outputs": [
        {
          "output_type": "execute_result",
          "data": {
            "text/plain": [
              "array([0, 0, 0, 0, 0, 0, 0, 0, 0, 0, 0, 0, 0, 0, 0, 0, 0, 0, 0, 0, 0, 0,\n",
              "       0, 0, 0, 0, 0, 0, 0, 0, 0, 0, 0, 0, 0, 0, 0, 0, 0, 0, 0, 0, 0, 0,\n",
              "       0, 0, 0, 0, 0, 0, 1, 1, 1, 1, 1, 1, 1, 1, 1, 1, 1, 1, 1, 1, 1, 1,\n",
              "       1, 1, 1, 1, 1, 1, 1, 1, 1, 1, 1, 1, 1, 1, 1, 1, 1, 1, 1, 1, 1, 1,\n",
              "       1, 1, 1, 1, 1, 1, 1, 1, 1, 1, 1, 1, 2, 2, 2, 2, 2, 2, 2, 2, 2, 2,\n",
              "       2, 2, 2, 2, 2, 2, 2, 2, 2, 2, 2, 2, 2, 2, 2, 2, 2, 2, 2, 2, 2, 2,\n",
              "       2, 2, 2, 2, 2, 2, 2, 2, 2, 2, 2, 2, 2, 2, 2, 2, 2, 2])"
            ]
          },
          "metadata": {
            "tags": []
          },
          "execution_count": 16
        }
      ]
    },
    {
      "cell_type": "code",
      "metadata": {
        "jupyter": {
          "outputs_hidden": true
        },
        "id": "MmaMRSayinG2"
      },
      "source": [
        "clf = tree.DecisionTreeClassifier(random_state=42)"
      ],
      "execution_count": null,
      "outputs": []
    },
    {
      "cell_type": "code",
      "metadata": {
        "jupyter": {
          "outputs_hidden": true
        },
        "id": "s3nZLjgbinG8"
      },
      "source": [
        "clf = clf.fit(X, y)"
      ],
      "execution_count": null,
      "outputs": []
    },
    {
      "cell_type": "markdown",
      "metadata": {
        "id": "S3IJH9uainHA"
      },
      "source": [
        "### Export_graphviz"
      ]
    },
    {
      "cell_type": "markdown",
      "metadata": {
        "id": "kPylMRxbinHB"
      },
      "source": [
        "Need to install graphviz first\n",
        "\n",
        "`conda install graphviz python-graphviz`"
      ]
    },
    {
      "cell_type": "code",
      "metadata": {
        "jupyter": {
          "outputs_hidden": true
        },
        "id": "ReSX-1uLinHC"
      },
      "source": [
        "from sklearn.tree import export_graphviz"
      ],
      "execution_count": null,
      "outputs": []
    },
    {
      "cell_type": "code",
      "metadata": {
        "jupyter": {
          "outputs_hidden": true
        },
        "id": "cKwT6C8ginHD"
      },
      "source": [
        "export_graphviz(clf,\n",
        "                out_file=\"tree.dot\",\n",
        "                feature_names=iris.feature_names[2:],\n",
        "                class_names=iris.target_names,\n",
        "                rounded=True,\n",
        "                filled=True)"
      ],
      "execution_count": null,
      "outputs": []
    },
    {
      "cell_type": "markdown",
      "metadata": {
        "id": "FeQKkj7OinHF"
      },
      "source": [
        "Run the following line on your command prompt\n",
        "\n",
        "`$ dot -Tpng tree.dot -o tree.png`"
      ]
    },
    {
      "cell_type": "markdown",
      "metadata": {
        "id": "wOW7J0SminHG"
      },
      "source": [
        "<img src='img//tree.png' width=50%>"
      ]
    },
    {
      "cell_type": "markdown",
      "metadata": {
        "id": "A12DSDH1inHI"
      },
      "source": [
        "## Graphviz"
      ]
    },
    {
      "cell_type": "code",
      "metadata": {
        "jupyter": {
          "outputs_hidden": true
        },
        "id": "8p3gIjF1inHJ"
      },
      "source": [
        "import graphviz"
      ],
      "execution_count": null,
      "outputs": []
    },
    {
      "cell_type": "code",
      "metadata": {
        "jupyter": {
          "outputs_hidden": true
        },
        "id": "ahdFM2jVinHK"
      },
      "source": [
        "dot_data = tree.export_graphviz(clf, out_file=None,\n",
        "                                feature_names=iris.feature_names[2:],\n",
        "                                class_names=iris.target_names,\n",
        "                                rounded=True,\n",
        "                                filled=True)"
      ],
      "execution_count": null,
      "outputs": []
    },
    {
      "cell_type": "code",
      "metadata": {
        "jupyter": {
          "outputs_hidden": true
        },
        "id": "prTd-GG-inHM"
      },
      "source": [
        "graph = graphviz.Source(dot_data)"
      ],
      "execution_count": null,
      "outputs": []
    },
    {
      "cell_type": "markdown",
      "metadata": {
        "id": "JvuB0etyinHO"
      },
      "source": [
        "graph"
      ]
    },
    {
      "cell_type": "markdown",
      "metadata": {
        "id": "G1eoVEDQinHO"
      },
      "source": [
        "## Visualise the Decision Boundary"
      ]
    },
    {
      "cell_type": "code",
      "metadata": {
        "jupyter": {
          "outputs_hidden": true
        },
        "id": "cPgr0nENinHP"
      },
      "source": [
        "import numpy as np\n",
        "import seaborn as sns\n",
        "sns.set_style('whitegrid')\n",
        "import matplotlib.pyplot as plt\n",
        "%matplotlib inline"
      ],
      "execution_count": null,
      "outputs": []
    },
    {
      "cell_type": "code",
      "metadata": {
        "id": "HcV_InM7inHR",
        "outputId": "b9a5d944-86c6-46bb-9f41-842f7d48b336",
        "colab": {
          "base_uri": "https://localhost:8080/",
          "height": 204
        }
      },
      "source": [
        "df = sns.load_dataset('iris')\n",
        "df.head()"
      ],
      "execution_count": null,
      "outputs": [
        {
          "output_type": "execute_result",
          "data": {
            "text/html": [
              "<div>\n",
              "<style scoped>\n",
              "    .dataframe tbody tr th:only-of-type {\n",
              "        vertical-align: middle;\n",
              "    }\n",
              "\n",
              "    .dataframe tbody tr th {\n",
              "        vertical-align: top;\n",
              "    }\n",
              "\n",
              "    .dataframe thead th {\n",
              "        text-align: right;\n",
              "    }\n",
              "</style>\n",
              "<table border=\"1\" class=\"dataframe\">\n",
              "  <thead>\n",
              "    <tr style=\"text-align: right;\">\n",
              "      <th></th>\n",
              "      <th>sepal_length</th>\n",
              "      <th>sepal_width</th>\n",
              "      <th>petal_length</th>\n",
              "      <th>petal_width</th>\n",
              "      <th>species</th>\n",
              "    </tr>\n",
              "  </thead>\n",
              "  <tbody>\n",
              "    <tr>\n",
              "      <th>0</th>\n",
              "      <td>5.1</td>\n",
              "      <td>3.5</td>\n",
              "      <td>1.4</td>\n",
              "      <td>0.2</td>\n",
              "      <td>setosa</td>\n",
              "    </tr>\n",
              "    <tr>\n",
              "      <th>1</th>\n",
              "      <td>4.9</td>\n",
              "      <td>3.0</td>\n",
              "      <td>1.4</td>\n",
              "      <td>0.2</td>\n",
              "      <td>setosa</td>\n",
              "    </tr>\n",
              "    <tr>\n",
              "      <th>2</th>\n",
              "      <td>4.7</td>\n",
              "      <td>3.2</td>\n",
              "      <td>1.3</td>\n",
              "      <td>0.2</td>\n",
              "      <td>setosa</td>\n",
              "    </tr>\n",
              "    <tr>\n",
              "      <th>3</th>\n",
              "      <td>4.6</td>\n",
              "      <td>3.1</td>\n",
              "      <td>1.5</td>\n",
              "      <td>0.2</td>\n",
              "      <td>setosa</td>\n",
              "    </tr>\n",
              "    <tr>\n",
              "      <th>4</th>\n",
              "      <td>5.0</td>\n",
              "      <td>3.6</td>\n",
              "      <td>1.4</td>\n",
              "      <td>0.2</td>\n",
              "      <td>setosa</td>\n",
              "    </tr>\n",
              "  </tbody>\n",
              "</table>\n",
              "</div>"
            ],
            "text/plain": [
              "   sepal_length  sepal_width  petal_length  petal_width species\n",
              "0           5.1          3.5           1.4          0.2  setosa\n",
              "1           4.9          3.0           1.4          0.2  setosa\n",
              "2           4.7          3.2           1.3          0.2  setosa\n",
              "3           4.6          3.1           1.5          0.2  setosa\n",
              "4           5.0          3.6           1.4          0.2  setosa"
            ]
          },
          "metadata": {
            "tags": []
          },
          "execution_count": 25
        }
      ]
    },
    {
      "cell_type": "code",
      "metadata": {
        "jupyter": {
          "outputs_hidden": true
        },
        "id": "3lWYDkl6inHU"
      },
      "source": [
        "col = ['petal_length', 'petal_width']\n",
        "X = df.loc[:, col]"
      ],
      "execution_count": null,
      "outputs": []
    },
    {
      "cell_type": "code",
      "metadata": {
        "jupyter": {
          "outputs_hidden": true
        },
        "id": "VEPkrO4qinHW"
      },
      "source": [
        "species_to_num = {'setosa': 0,\n",
        "                  'versicolor': 1,\n",
        "                  'virginica': 2}\n",
        "df['tmp'] = df['species'].map(species_to_num)\n",
        "y = df['tmp']"
      ],
      "execution_count": null,
      "outputs": []
    },
    {
      "cell_type": "code",
      "metadata": {
        "jupyter": {
          "outputs_hidden": true
        },
        "id": "ckTOWq0linHY"
      },
      "source": [
        "clf = tree.DecisionTreeClassifier()\n",
        "clf = clf.fit(X, y)"
      ],
      "execution_count": null,
      "outputs": []
    },
    {
      "cell_type": "code",
      "metadata": {
        "jupyter": {
          "outputs_hidden": true
        },
        "id": "apwuS0YFinHb"
      },
      "source": [
        "Xv = X.values.reshape(-1,1)\n",
        "h = 0.02\n",
        "x_min, x_max = Xv.min(), Xv.max() + 1\n",
        "y_min, y_max = y.min(), y.max() + 1\n",
        "xx, yy = np.meshgrid(np.arange(x_min, x_max, h),\n",
        "                     np.arange(y_min, y_max, h))"
      ],
      "execution_count": null,
      "outputs": []
    },
    {
      "cell_type": "code",
      "metadata": {
        "id": "UVdf0GBEinHc",
        "outputId": "7ac041df-4ec5-47d6-b1e0-f3be199e8aca",
        "colab": {
          "base_uri": "https://localhost:8080/",
          "height": 486
        }
      },
      "source": [
        "z = clf.predict(np.c_[xx.ravel(), yy.ravel()])\n",
        "z = z.reshape(xx.shape)\n",
        "fig = plt.figure(figsize=(8,8))\n",
        "ax = plt.contourf(xx, yy, z, cmap = 'afmhot', alpha=0.3);\n",
        "plt.scatter(X.values[:, 0], X.values[:, 1], c=y, s=80,\n",
        "            alpha=0.9, edgecolors='g');"
      ],
      "execution_count": null,
      "outputs": [
        {
          "output_type": "display_data",
          "data": {
            "image/png": "[encoded data removed]",
            "text/plain": [
              "<Figure size 576x576 with 1 Axes>"
            ]
          },
          "metadata": {
            "tags": []
          }
        }
      ]
    },
    {
      "cell_type": "markdown",
      "metadata": {
        "id": "cPA4qcxKinHf"
      },
      "source": [
        "***\n",
        "\n",
        "# Decision Tree Learning\n",
        "\n",
        "* [ID3](https://en.wikipedia.org/wiki/ID3_algorithm) (Iterative Dichotomiser 3)\n",
        "* [C4.5](https://en.wikipedia.org/wiki/C4.5_algorithm) (successor of ID3)\n",
        "* CART (Classification And Regression Tree)\n",
        "* [CHAID](http://www.statisticssolutions.com/non-parametric-analysis-chaid/) (Chi-squared Automatic Interaction Detector). by [Gordon Kass](https://en.wikipedia.org/wiki/Chi-square_automatic_interaction_detection)."
      ]
    },
    {
      "cell_type": "markdown",
      "metadata": {
        "id": "IzpFkA2DinHg"
      },
      "source": [
        "## Tree algorithms: ID3, C4.5, C5.0 and CART\n",
        "\n",
        "\n",
        "* ID3 (Iterative Dichotomiser 3) was developed in 1986 by Ross Quinlan. The algorithm creates a multiway tree, finding for each node (i.e. in a greedy manner) the categorical feature that will yield the largest information gain for categorical targets. Trees are grown to their maximum size and then a pruning step is usually applied to improve the ability of the tree to generalise to unseen data.\n",
        "\n",
        "\n",
        "* C4.5 is the successor to ID3 and removed the restriction that features must be categorical by dynamically defining a discrete attribute (based on numerical variables) that partitions the continuous attribute value into a discrete set of intervals. C4.5 converts the trained trees (i.e. the output of the ID3 algorithm) into sets of if-then rules. These accuracy of each rule is then evaluated to determine the order in which they should be applied. Pruning is done by removing a rule’s precondition if the accuracy of the rule improves without it.\n",
        "\n",
        "\n",
        "* C5.0 is Quinlan’s latest version release under a proprietary license. It uses less memory and builds smaller rulesets than C4.5 while being more accurate.\n",
        "\n",
        "\n",
        "* CART (Classification and Regression Trees) is very similar to C4.5, but it differs in that it supports numerical target variables (regression) and does not compute rule sets. CART constructs binary trees using the feature and threshold that yield the largest information gain at each node.\n",
        "\n",
        "\n",
        "* CHAID (Chi-squared Automatic Interaction Detector). by Gordon Kass. Performs multi-level splits when computing classification trees. Non-parametric. Does not require the data to be normally distributed.\n",
        "\n",
        "scikit-learn uses an optimised version of the CART algorithm."
      ]
    },
    {
      "cell_type": "markdown",
      "metadata": {
        "id": "dINQ6DJKinHg"
      },
      "source": [
        "# Gini Impurity\n",
        "\n",
        "scikit-learn default\n",
        "\n",
        "[Gini Impurity](https://en.wikipedia.org/wiki/Decision_tree_learning#Gini_impurity)\n",
        "\n",
        "A measure of purity / variability of categorical data\n",
        "\n",
        "As a side note on the difference between [Gini Impurity and Gini Coefficient](https://datascience.stackexchange.com/questions/1095/gini-coefficient-vs-gini-impurity-decision-trees)\n",
        "\n",
        "* No, despite their names they are not equivalent or even that similar.\n",
        "* **Gini impurity** is a measure of misclassification, which applies in a multiclass classifier context.\n",
        "* **Gini coefficient** applies to binary classification and requires a classifier that can in some way rank examples according to the likelihood of being in a positive class.\n",
        "* Both could be applied in some cases, but they are different measures for different things. Impurity is what is commonly used in decision trees.\n",
        "\n",
        "\n",
        "\n",
        "\n",
        "Developed by [Corrado Gini](https://en.wikipedia.org/wiki/Corrado_Gini) in 1912\n",
        "\n",
        "Key Points:\n",
        "* A pure node (homogeneous contents or samples with the same class) will have a Gini coefficient of zero\n",
        "* As the variation increases (heterogeneneous classes or increase diversity), Gini coefficient increases and approaches 1.\n",
        "\n",
        "$$Gini=1-\\sum^r_j p^2_j$$\n",
        "\n",
        "$p$ is the probability (often based on the frequency table)\n",
        "\n"
      ]
    },
    {
      "cell_type": "markdown",
      "metadata": {
        "id": "lHnxaE0QinHh"
      },
      "source": [
        "<img src='img//tree_gini_imp.png' width=50%>"
      ]
    },
    {
      "cell_type": "markdown",
      "metadata": {
        "id": "SdiI2HBtinHh"
      },
      "source": [
        "# Entropy\n",
        "\n",
        "[Wikipedia](https://en.wikipedia.org/wiki/Entropy_(information_theory)\n",
        "\n",
        "The entropy can explicitly be written as\n",
        "\n",
        "$${\\displaystyle \\mathrm {H} (X)=\\sum _{i=1}^{n}{\\mathrm {P} (x_{i})\\,\\mathrm {I} (x_{i})}=-\\sum _{i=1}^{n}{\\mathrm {P} (x_{i})\\log _{b}\\mathrm {P} (x_{i})},}$$\n",
        "\n",
        "where `b` is the base of the logarithm used. Common values of `b` are 2, Euler's number `e`, and 10\n",
        "\n",
        "\n"
      ]
    },
    {
      "cell_type": "markdown",
      "metadata": {
        "id": "p69F_YPEinHi"
      },
      "source": [
        "# Which should I use?\n",
        "\n",
        "[Sebastian Raschka](https://sebastianraschka.com/faq/docs/decision-tree-binary.html)\n",
        "\n",
        "* They tend to generate similar tree\n",
        "* Gini tends to be faster to compute"
      ]
    },
    {
      "cell_type": "markdown",
      "metadata": {
        "id": "1owrKCPEinHi"
      },
      "source": [
        "***"
      ]
    },
    {
      "cell_type": "code",
      "metadata": {
        "jupyter": {
          "outputs_hidden": true
        },
        "id": "K9ciYGiAinHj"
      },
      "source": [
        "def gini(p):\n",
        "    return (p)*(1 - (p)) + (1 - p)*(1 - (1-p))\n",
        "def entropy(p):\n",
        "    return - p*np.log2(p) - (1 - p)*np.log2((1 - p))\n",
        "def error(p):\n",
        "    return 1 - np.max([p, 1 - p])"
      ],
      "execution_count": null,
      "outputs": []
    },
    {
      "cell_type": "code",
      "metadata": {
        "jupyter": {
          "outputs_hidden": true
        },
        "id": "4ombJyCFinHk"
      },
      "source": [
        "x = np.arange(0.0, 1.0, 0.01)\n",
        "\n",
        "ent = [entropy(p) if p != 0 else None for p in x]\n",
        "\n",
        "sc_ent = [e*0.5 if e else None for e in ent]\n",
        "err = [error(i) for i in x]"
      ],
      "execution_count": null,
      "outputs": []
    },
    {
      "cell_type": "code",
      "metadata": {
        "id": "vESmNY5WinHm",
        "outputId": "5e945bc5-5816-474c-c18f-cb4af7a50ac2",
        "colab": {
          "base_uri": "https://localhost:8080/",
          "height": 557
        }
      },
      "source": [
        "fig = plt.figure(figsize=(10,8))\n",
        "ax = plt.subplot(111)\n",
        "for i, lab, ls, c, in zip([ent, sc_ent, gini(x), err],\n",
        "                   ['Entropy', 'Entropy (scaled)',\n",
        "                   'Gini Impurity',\n",
        "                   'Misclassification Error'],\n",
        "                   ['-', '-', '--', '-.'],\n",
        "                   ['black', 'lightgray',\n",
        "                      'red', 'green', 'cyan']):\n",
        "     line = ax.plot(x, i, label=lab,\n",
        "                    linestyle=ls, lw=2, color=c)\n",
        "ax.legend(loc='upper center', bbox_to_anchor=(0.5, 1.15),\n",
        "           ncol=3, fancybox=True, shadow=False)\n",
        "ax.axhline(y=0.5, linewidth=1, color='k', linestyle='--')\n",
        "ax.axhline(y=1.0, linewidth=1, color='k', linestyle='--')\n",
        "plt.ylim([0, 1.1])\n",
        "plt.xlabel('p(i=1)')\n",
        "plt.ylabel('Impurity Index')\n",
        "plt.show()"
      ],
      "execution_count": null,
      "outputs": [
        {
          "output_type": "display_data",
          "data": {
            "image/png": "[encoded data removed]",
            "text/plain": [
              "<Figure size 720x576 with 1 Axes>"
            ]
          },
          "metadata": {
            "tags": []
          }
        }
      ]
    },
    {
      "cell_type": "markdown",
      "metadata": {
        "id": "MXDt4l-rinHn"
      },
      "source": [
        "# Information Gain\n",
        "\n",
        "* Expected reduction in entropy caused by splitting\n",
        "\n",
        "* Keep splitting until you obtain a as close to homogeneous class as possible\n",
        "\n"
      ]
    },
    {
      "cell_type": "markdown",
      "metadata": {
        "id": "s7D22XWfinHq"
      },
      "source": [
        "***"
      ]
    },
    {
      "cell_type": "markdown",
      "metadata": {
        "id": "jFh5lMOEinHq"
      },
      "source": [
        "# Regression"
      ]
    },
    {
      "cell_type": "code",
      "metadata": {
        "jupyter": {
          "outputs_hidden": true
        },
        "id": "meYbhvahinHr"
      },
      "source": [
        "from sklearn import tree"
      ],
      "execution_count": null,
      "outputs": []
    },
    {
      "cell_type": "code",
      "metadata": {
        "jupyter": {
          "outputs_hidden": true
        },
        "id": "lHPoVYjlinHu"
      },
      "source": [
        "X = [[0, 0], [3,3]]\n",
        "y = [0.75, 3]"
      ],
      "execution_count": null,
      "outputs": []
    },
    {
      "cell_type": "code",
      "metadata": {
        "jupyter": {
          "outputs_hidden": true
        },
        "id": "5z6BEIG0inHv"
      },
      "source": [
        "tree_reg = tree.DecisionTreeRegressor(random_state=42)"
      ],
      "execution_count": null,
      "outputs": []
    },
    {
      "cell_type": "code",
      "metadata": {
        "jupyter": {
          "outputs_hidden": true
        },
        "id": "t0grQu7ginHx"
      },
      "source": [
        "tree_reg = tree_reg.fit(X, y)"
      ],
      "execution_count": null,
      "outputs": []
    },
    {
      "cell_type": "code",
      "metadata": {
        "id": "Cj9Q4xKminHy",
        "outputId": "d3b5b852-4dff-4f5e-86e1-9f2a489a3697",
        "colab": {
          "base_uri": "https://localhost:8080/",
          "height": 34
        }
      },
      "source": [
        "tree_reg.predict([[1.5, 1.5]])"
      ],
      "execution_count": null,
      "outputs": [
        {
          "output_type": "execute_result",
          "data": {
            "text/plain": [
              "array([0.75])"
            ]
          },
          "metadata": {
            "tags": []
          },
          "execution_count": 38
        }
      ]
    },
    {
      "cell_type": "code",
      "metadata": {
        "id": "posgTNWIinH0",
        "outputId": "dfd0b743-7f51-49aa-fca0-b78e1b9cd775",
        "colab": {
          "base_uri": "https://localhost:8080/",
          "height": 513
        }
      },
      "source": [
        "# Import the necessary modules and libraries\n",
        "import numpy as np\n",
        "from sklearn.tree import DecisionTreeRegressor\n",
        "import matplotlib.pyplot as plt\n",
        "\n",
        "# Create a random dataset\n",
        "rng = np.random.RandomState(1)\n",
        "X = np.sort(5 * rng.rand(80, 1), axis=0)\n",
        "y = np.sin(X).ravel()\n",
        "y[::5] += 3 * (0.5 - rng.rand(16))\n",
        "\n",
        "# Fit regression model\n",
        "regr_1 = DecisionTreeRegressor(max_depth=2)\n",
        "regr_2 = DecisionTreeRegressor(max_depth=5)\n",
        "regr_1.fit(X, y)\n",
        "regr_2.fit(X, y)\n",
        "\n",
        "# Predict\n",
        "X_test = np.arange(0.0, 5.0, 0.01)[:, np.newaxis]\n",
        "y_1 = regr_1.predict(X_test)\n",
        "y_2 = regr_2.predict(X_test)\n",
        "\n",
        "# Plot the results\n",
        "plt.figure(figsize=(10,8))\n",
        "plt.scatter(X, y, s=20, edgecolor=\"black\",\n",
        "            c=\"darkorange\", label=\"data\")\n",
        "plt.plot(X_test, y_1, color=\"cornflowerblue\",\n",
        "         label=\"max_depth=2\", linewidth=2)\n",
        "plt.plot(X_test, y_2, color=\"yellowgreen\", label=\"max_depth=5\", linewidth=2)\n",
        "plt.xlabel(\"data\")\n",
        "plt.ylabel(\"target\")\n",
        "plt.title(\"Decision Tree Regression\")\n",
        "plt.legend()\n",
        "plt.show()"
      ],
      "execution_count": null,
      "outputs": [
        {
          "output_type": "display_data",
          "data": {
            "image/png": "[encoded data removed]",
            "text/plain": [
              "<Figure size 720x576 with 1 Axes>"
            ]
          },
          "metadata": {
            "tags": []
          }
        }
      ]
    },
    {
      "cell_type": "markdown",
      "metadata": {
        "id": "FH0cPWTainH1"
      },
      "source": [
        "dot_data = tree.export_graphviz(regr_1, out_file=None,\n",
        "                                filled=True)\n",
        "graph = graphviz.Source(dot_data)\n",
        "graph"
      ]
    },
    {
      "cell_type": "markdown",
      "metadata": {
        "id": "FRwijtKzinH2"
      },
      "source": [
        "dot_data = tree.export_graphviz(regr_2, out_file=None,\n",
        "                                filled=True)\n",
        "graph = graphviz.Source(dot_data)\n",
        "graph"
      ]
    },
    {
      "cell_type": "markdown",
      "metadata": {
        "id": "CK3MfUWIinH2"
      },
      "source": [
        "## Regularization"
      ]
    },
    {
      "cell_type": "code",
      "metadata": {
        "id": "2nkIozHSinH4",
        "outputId": "b85adde1-f569-4eb9-d014-37f20b9f4b0f",
        "colab": {
          "base_uri": "https://localhost:8080/",
          "height": 513
        }
      },
      "source": [
        "# Import the necessary modules and libraries\n",
        "import numpy as np\n",
        "from sklearn.tree import DecisionTreeRegressor\n",
        "import matplotlib.pyplot as plt\n",
        "\n",
        "# Create a random dataset\n",
        "rng = np.random.RandomState(1)\n",
        "X = np.sort(5 * rng.rand(80, 1), axis=0)\n",
        "y = np.sin(X).ravel()\n",
        "y[::5] += 3 * (0.5 - rng.rand(16))\n",
        "\n",
        "# Fit regression model\n",
        "regr_1 = DecisionTreeRegressor(max_depth=2)\n",
        "regr_2 = DecisionTreeRegressor(max_depth=5, min_samples_leaf=10)\n",
        "regr_1.fit(X, y)\n",
        "regr_2.fit(X, y)\n",
        "\n",
        "# Predict\n",
        "X_test = np.arange(0.0, 5.0, 0.01)[:, np.newaxis]\n",
        "y_1 = regr_1.predict(X_test)\n",
        "y_2 = regr_2.predict(X_test)\n",
        "\n",
        "# Plot the results\n",
        "plt.figure(figsize=(10,8))\n",
        "plt.scatter(X, y, s=20, edgecolor=\"black\",\n",
        "            c=\"darkorange\", label=\"data\")\n",
        "plt.plot(X_test, y_1, color=\"cornflowerblue\",\n",
        "         label=\"max_depth=2\", linewidth=2)\n",
        "plt.plot(X_test, y_2, color=\"yellowgreen\", label=\"max_depth=5\", linewidth=2)\n",
        "plt.xlabel(\"data\")\n",
        "plt.ylabel(\"target\")\n",
        "plt.title(\"Decision Tree Regression\")\n",
        "plt.legend()\n",
        "plt.show()"
      ],
      "execution_count": null,
      "outputs": [
        {
          "output_type": "display_data",
          "data": {
            "image/png": "[encoded data removed]",
            "text/plain": [
              "<Figure size 720x576 with 1 Axes>"
            ]
          },
          "metadata": {
            "tags": []
          }
        }
      ]
    },
    {
      "cell_type": "markdown",
      "metadata": {
        "id": "tChKrSWLinH6"
      },
      "source": [
        "dot_data = tree.export_graphviz(regr_2, out_file=None,\n",
        "                                filled=True)\n",
        "graph = graphviz.Source(dot_data)\n",
        "graph"
      ]
    },
    {
      "cell_type": "markdown",
      "metadata": {
        "id": "6a5lAD4binH6"
      },
      "source": [
        "# Overfitting"
      ]
    },
    {
      "cell_type": "code",
      "metadata": {
        "jupyter": {
          "outputs_hidden": true
        },
        "id": "Qe0CBmidinH6"
      },
      "source": [
        "from sklearn.datasets import load_iris\n",
        "from sklearn import tree\n",
        "iris = load_iris()"
      ],
      "execution_count": null,
      "outputs": []
    },
    {
      "cell_type": "code",
      "metadata": {
        "jupyter": {
          "outputs_hidden": true
        },
        "id": "OKX0sUhIinH8"
      },
      "source": [
        "X = iris.data[:, 0:2]\n",
        "y = iris.target\n",
        "clf = tree.DecisionTreeClassifier(random_state=42)\n",
        "clf = clf.fit(X, y)"
      ],
      "execution_count": null,
      "outputs": []
    },
    {
      "cell_type": "code",
      "metadata": {
        "jupyter": {
          "outputs_hidden": true
        },
        "id": "SsPRzOq_inH-"
      },
      "source": [
        "dot_data = tree.export_graphviz(clf, out_file=None,\n",
        "                                feature_names=iris.feature_names[2:],\n",
        "                                class_names=iris.target_names,\n",
        "                                rounded=True,\n",
        "                                filled=True)"
      ],
      "execution_count": null,
      "outputs": []
    },
    {
      "cell_type": "markdown",
      "metadata": {
        "id": "MzzcWNi7inH_"
      },
      "source": [
        "graph = graphviz.Source(dot_data)\n",
        "graph"
      ]
    },
    {
      "cell_type": "markdown",
      "metadata": {
        "id": "bzZHscc4inIA"
      },
      "source": [
        "# Modelling End-to-End with Decision Tree"
      ]
    },
    {
      "cell_type": "code",
      "metadata": {
        "jupyter": {
          "outputs_hidden": true
        },
        "id": "vm1wb3mNinIB"
      },
      "source": [
        "from sklearn.datasets import make_moons"
      ],
      "execution_count": null,
      "outputs": []
    },
    {
      "cell_type": "code",
      "metadata": {
        "jupyter": {
          "outputs_hidden": true
        },
        "id": "yOZ_m3-vinIC"
      },
      "source": [
        "X_data, y_data = make_moons(n_samples=1000, noise=0.5, random_state=42)"
      ],
      "execution_count": null,
      "outputs": []
    },
    {
      "cell_type": "code",
      "metadata": {
        "jupyter": {
          "outputs_hidden": true
        },
        "id": "k5EdW23binIE"
      },
      "source": [
        "cl1 = tree.DecisionTreeClassifier(random_state=42)\n",
        "cl2 = tree.DecisionTreeClassifier(min_samples_leaf=10, random_state=42)"
      ],
      "execution_count": null,
      "outputs": []
    },
    {
      "cell_type": "code",
      "metadata": {
        "jupyter": {
          "outputs_hidden": true
        },
        "id": "ze0ot9sfinIG"
      },
      "source": [
        "from sklearn.model_selection import train_test_split"
      ],
      "execution_count": null,
      "outputs": []
    },
    {
      "cell_type": "code",
      "metadata": {
        "jupyter": {
          "outputs_hidden": true
        },
        "id": "H84slGdxinIJ"
      },
      "source": [
        "X_train, X_test, y_train, y_test = train_test_split(X_data, y_data, test_size=0.1, random_state=42)"
      ],
      "execution_count": null,
      "outputs": []
    },
    {
      "cell_type": "code",
      "metadata": {
        "jupyter": {
          "outputs_hidden": true
        },
        "id": "92SDcAzyinIL"
      },
      "source": [
        "from sklearn.model_selection import GridSearchCV"
      ],
      "execution_count": null,
      "outputs": []
    },
    {
      "cell_type": "code",
      "metadata": {
        "jupyter": {
          "outputs_hidden": true
        },
        "id": "HHS2U-atinId"
      },
      "source": [
        "#params = {'max_leaf_nodes': list(range(2, 50)),\n",
        "#          'min_samples_split': [2, 3, 4],\n",
        "#          'min_samples_leaf': list(range(5, 20))}\n",
        "\n",
        "params ={'min_samples_leaf': list(range(5, 20))}"
      ],
      "execution_count": null,
      "outputs": []
    },
    {
      "cell_type": "code",
      "metadata": {
        "scrolled": true,
        "id": "vCeVwdh7inIh",
        "outputId": "48177763-4f2b-4ed1-c2f0-1e2074063eb6",
        "colab": {
          "base_uri": "https://localhost:8080/",
          "height": 411
        }
      },
      "source": [
        "grid_search_cv = GridSearchCV(tree.DecisionTreeClassifier(random_state=42), params, n_jobs=-1, verbose=1)\n",
        "\n",
        "grid_search_cv.fit(X_train, y_train)"
      ],
      "execution_count": null,
      "outputs": [
        {
          "output_type": "stream",
          "text": [
            "Fitting 3 folds for each of 15 candidates, totalling 45 fits\n"
          ],
          "name": "stdout"
        },
        {
          "output_type": "stream",
          "text": [
            "/usr/local/lib/python3.6/dist-packages/sklearn/model_selection/_split.py:1978: FutureWarning: The default value of cv will change from 3 to 5 in version 0.22. Specify it explicitly to silence this warning.\n",
            "  warnings.warn(CV_WARNING, FutureWarning)\n",
            "[Parallel(n_jobs=-1)]: Using backend LokyBackend with 2 concurrent workers.\n",
            "[Parallel(n_jobs=-1)]: Done  45 out of  45 | elapsed:    1.8s finished\n"
          ],
          "name": "stderr"
        },
        {
          "output_type": "execute_result",
          "data": {
            "text/plain": [
              "GridSearchCV(cv='warn', error_score='raise-deprecating',\n",
              "             estimator=DecisionTreeClassifier(class_weight=None,\n",
              "                                              criterion='gini', max_depth=None,\n",
              "                                              max_features=None,\n",
              "                                              max_leaf_nodes=None,\n",
              "                                              min_impurity_decrease=0.0,\n",
              "                                              min_impurity_split=None,\n",
              "                                              min_samples_leaf=1,\n",
              "                                              min_samples_split=2,\n",
              "                                              min_weight_fraction_leaf=0.0,\n",
              "                                              presort=False, random_state=42,\n",
              "                                              splitter='best'),\n",
              "             iid='warn', n_jobs=-1,\n",
              "             param_grid={'min_samples_leaf': [5, 6, 7, 8, 9, 10, 11, 12, 13, 14,\n",
              "                                              15, 16, 17, 18, 19]},\n",
              "             pre_dispatch='2*n_jobs', refit=True, return_train_score=False,\n",
              "             scoring=None, verbose=1)"
            ]
          },
          "metadata": {
            "tags": []
          },
          "execution_count": 51
        }
      ]
    },
    {
      "cell_type": "code",
      "metadata": {
        "id": "IVhRhzLQinIj",
        "outputId": "64e0b02f-a149-4d41-9cc8-dda22a3ac613",
        "colab": {
          "base_uri": "https://localhost:8080/",
          "height": 119
        }
      },
      "source": [
        "grid_search_cv.best_estimator_"
      ],
      "execution_count": null,
      "outputs": [
        {
          "output_type": "execute_result",
          "data": {
            "text/plain": [
              "DecisionTreeClassifier(class_weight=None, criterion='gini', max_depth=None,\n",
              "                       max_features=None, max_leaf_nodes=None,\n",
              "                       min_impurity_decrease=0.0, min_impurity_split=None,\n",
              "                       min_samples_leaf=19, min_samples_split=2,\n",
              "                       min_weight_fraction_leaf=0.0, presort=False,\n",
              "                       random_state=42, splitter='best')"
            ]
          },
          "metadata": {
            "tags": []
          },
          "execution_count": 52
        }
      ]
    },
    {
      "cell_type": "code",
      "metadata": {
        "jupyter": {
          "outputs_hidden": true
        },
        "id": "UgKAyLrXinIl"
      },
      "source": [
        "from sklearn.metrics import accuracy_score"
      ],
      "execution_count": null,
      "outputs": []
    },
    {
      "cell_type": "code",
      "metadata": {
        "id": "QWZ8sA1AinIo",
        "outputId": "8df6b932-48a2-46fc-d6aa-89d8b2209b50",
        "colab": {
          "base_uri": "https://localhost:8080/",
          "height": 34
        }
      },
      "source": [
        "y_pred = grid_search_cv.predict(X_test)\n",
        "accuracy_score(y_test, y_pred)"
      ],
      "execution_count": null,
      "outputs": [
        {
          "output_type": "execute_result",
          "data": {
            "text/plain": [
              "0.83"
            ]
          },
          "metadata": {
            "tags": []
          },
          "execution_count": 54
        }
      ]
    },
    {
      "cell_type": "code",
      "metadata": {
        "id": "6G5P5bcuinIp",
        "outputId": "61b44c16-4c0a-4f0a-a4ee-cb8d7ebe0822",
        "colab": {
          "base_uri": "https://localhost:8080/",
          "height": 34
        }
      },
      "source": [
        "cl1.fit(X_train, y_train)\n",
        "y_pred = cl1.predict(X_test)\n",
        "accuracy_score(y_test, y_pred)"
      ],
      "execution_count": null,
      "outputs": [
        {
          "output_type": "execute_result",
          "data": {
            "text/plain": [
              "0.74"
            ]
          },
          "metadata": {
            "tags": []
          },
          "execution_count": 55
        }
      ]
    },
    {
      "cell_type": "code",
      "metadata": {
        "id": "FjAlQABtinIt",
        "outputId": "be286eef-4f24-4431-e229-16a3187687f5",
        "colab": {
          "base_uri": "https://localhost:8080/",
          "height": 238
        }
      },
      "source": [
        "cl1.get_params()"
      ],
      "execution_count": null,
      "outputs": [
        {
          "output_type": "execute_result",
          "data": {
            "text/plain": [
              "{'class_weight': None,\n",
              " 'criterion': 'gini',\n",
              " 'max_depth': None,\n",
              " 'max_features': None,\n",
              " 'max_leaf_nodes': None,\n",
              " 'min_impurity_decrease': 0.0,\n",
              " 'min_impurity_split': None,\n",
              " 'min_samples_leaf': 1,\n",
              " 'min_samples_split': 2,\n",
              " 'min_weight_fraction_leaf': 0.0,\n",
              " 'presort': False,\n",
              " 'random_state': 42,\n",
              " 'splitter': 'best'}"
            ]
          },
          "metadata": {
            "tags": []
          },
          "execution_count": 56
        }
      ]
    },
    {
      "cell_type": "markdown",
      "metadata": {
        "id": "F9OJVicminIw"
      },
      "source": [
        "\n",
        "***"
      ]
    },
    {
      "cell_type": "markdown",
      "metadata": {
        "id": "t_-urO7DinIy"
      },
      "source": [
        "# Where to From Here\n",
        "\n",
        "\n",
        "## Tips on practical use\n",
        "\n",
        "* Decision trees tend to overfit on data with a large number of features. Check ratio of samples to number of features\n",
        "\n",
        "* Consider performing dimensionality reduction (PCA, ICA, or Feature selection) beforehand\n",
        "\n",
        "* Visualise your tree as you are training by using the export function. Use max_depth=3 as an initial tree depth.\n",
        "\n",
        "* Use max_depth to control the size of the tree to prevent overfitting.\n",
        "\n",
        "* Tune `min_samples_split` or `min_samples_leaf` to control the number of samples at a leaf node.\n",
        "\n",
        "* Balance your dataset before training to prevent the tree from being biased toward the classes that are dominant.\n",
        "\n",
        "  * By sampling an equal number of samples from each class\n",
        "  \n",
        "  * By normalizing the sum of the sample weights (sample_weight) for each class to the same value.\n"
      ]
    },
    {
      "cell_type": "markdown",
      "metadata": {
        "id": "_RaCKU1QinIz"
      },
      "source": [
        "# References:\n",
        "1. [Wikipedia - Decision Tree Learning](https://en.wikipedia.org/wiki/Decision_tree_learning)\n",
        "2. [Decision Tree - Classification](http://www.saedsayad.com/decision_tree.htm)\n",
        "3. [Data Aspirant](http://dataaspirant.com/2017/01/30/how-decision-tree-algorithm-works/)\n",
        "4. [Scikit-learn](http://scikit-learn.org/stable/modules/tree.html)\n",
        "5. https://en.wikipedia.org/wiki/Predictive_analytics\n",
        "6. L. Breiman, J. Friedman, R. Olshen, and C. Stone. Classification and Regression Trees. Wadsworth, Belmont, CA, 1984.\n",
        "7. J.R. Quinlan. C4. 5: programs for machine learning. Morgan Kaufmann, 1993.\n",
        "8. T. Hastie, R. Tibshirani and J. Friedman. Elements of Statistical Learning, Springer, 2009.\n",
        "\n",
        "\n"
      ]
    },
    {
      "cell_type": "markdown",
      "metadata": {
        "id": "HMHyqBtlinIz"
      },
      "source": [
        "***"
      ]
    }
  ]
}