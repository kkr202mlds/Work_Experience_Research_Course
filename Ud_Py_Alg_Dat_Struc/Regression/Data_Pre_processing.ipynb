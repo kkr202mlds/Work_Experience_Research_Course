{
 "cells": [
  {
   "cell_type": "markdown",
   "metadata": {
    "id": "8u2Rb8I8HdlU"
   },
   "source": [
    "# Data Pre-Processing"
   ]
  },
  {
   "cell_type": "code",
   "execution_count": 1,
   "metadata": {
    "id": "zucGLsIHHdlV"
   },
   "outputs": [],
   "source": [
    "import pandas as pd\n",
    "import numpy as np\n",
    "import matplotlib.pyplot as plt\n",
    "import seaborn as sns\n",
    "sns.set_style(\"whitegrid\")\n",
    "%matplotlib inline"
   ]
  },
  {
   "cell_type": "code",
   "execution_count": 2,
   "metadata": {
    "colab": {
     "base_uri": "https://localhost:8080/",
     "height": 102
    },
    "id": "nrNBOHCyHdlY",
    "outputId": "563de9ce-6668-4228-f8fa-d91d8da4058e"
   },
   "outputs": [
    {
     "name": "stdout",
     "output_type": "stream",
     "text": [
      "1.22.4\n",
      "1.5.3\n",
      "3.8.8 (default, Apr 13 2021, 12:59:45) \n",
      "[Clang 10.0.0 ]\n",
      "1.2.2\n"
     ]
    }
   ],
   "source": [
    "print(np.__version__)\n",
    "print(pd.__version__)\n",
    "import sys\n",
    "print(sys.version)\n",
    "import sklearn\n",
    "print(sklearn.__version__)"
   ]
  },
  {
   "cell_type": "code",
   "execution_count": 17,
   "metadata": {
    "colab": {
     "base_uri": "https://localhost:8080/",
     "height": 204
    },
    "id": "qdBKbQYyHdlb",
    "outputId": "5e3f0182-4858-4810-f4cc-62c1323daa54"
   },
   "outputs": [
    {
     "name": "stdout",
     "output_type": "stream",
     "text": [
      "1. Title: Boston Housing Data\r\n",
      "\r\n",
      "2. Sources:\r\n",
      "   (a) Origin:  This dataset was taken from the StatLib library which is\r\n",
      "                maintained at Carnegie Mellon University.\r\n",
      "   (b) Creator:  Harrison, D. and Rubinfeld, D.L. 'Hedonic prices and the \r\n",
      "                 demand for clean air', J. Environ. Economics & Management,\r\n",
      "                 vol.5, 81-102, 1978.\r\n",
      "   (c) Date: July 7, 1993\r\n",
      "\r\n",
      "3. Past Usage:\r\n",
      "   -   Used in Belsley, Kuh & Welsch, 'Regression diagnostics ...', Wiley, \r\n",
      "       1980.   N.B. Various transformations are used in the table on\r\n",
      "       pages 244-261.\r\n",
      "    -  Quinlan,R. (1993). Combining Instance-Based and Model-Based Learning.\r\n",
      "       In Proceedings on the Tenth International Conference of Machine \r\n",
      "       Learning, 236-243, University of Massachusetts, Amherst. Morgan\r\n",
      "       Kaufmann.\r\n",
      "\r\n",
      "4. Relevant Information:\r\n",
      "\r\n",
      "   Concerns housing values in suburbs of Boston.\r\n",
      "\r\n",
      "5. Number of Instances: 506\r\n",
      "\r\n",
      "6. Number of Attributes: 13 continuous attributes (including \"class\"\r\n",
      "                         attribute \"MEDV\"), 1 binary-valued attribute.\r\n",
      "\r\n",
      "7. Attribute Information:\r\n",
      "\r\n",
      "    1. CRIM      per capita crime rate by town\r\n",
      "    2. ZN        proportion of residential land zoned for lots over \r\n",
      "                 25,000 sq.ft.\r\n",
      "    3. INDUS     proportion of non-retail business acres per town\r\n",
      "    4. CHAS      Charles River dummy variable (= 1 if tract bounds \r\n",
      "                 river; 0 otherwise)\r\n",
      "    5. NOX       nitric oxides concentration (parts per 10 million)\r\n",
      "    6. RM        average number of rooms per dwelling\r\n",
      "    7. AGE       proportion of owner-occupied units built prior to 1940\r\n",
      "    8. DIS       weighted distances to five Boston employment centres\r\n",
      "    9. RAD       index of accessibility to radial highways\r\n",
      "    10. TAX      full-value property-tax rate per $10,000\r\n",
      "    11. PTRATIO  pupil-teacher ratio by town\r\n",
      "    12. B        1000(Bk - 0.63)^2 where Bk is the proportion of blacks \r\n",
      "                 by town\r\n",
      "    13. LSTAT    % lower status of the population\r\n",
      "    14. MEDV     Median value of owner-occupied homes in $1000's\r\n",
      "\r\n",
      "8. Missing Attribute Values:  None.\r\n",
      "\r\n",
      "\r\n",
      "\r\n"
     ]
    }
   ],
   "source": [
    "!cat housing.names"
   ]
  },
  {
   "cell_type": "code",
   "execution_count": 13,
   "metadata": {},
   "outputs": [
    {
     "data": {
      "text/html": [
       "<div>\n",
       "<style scoped>\n",
       "    .dataframe tbody tr th:only-of-type {\n",
       "        vertical-align: middle;\n",
       "    }\n",
       "\n",
       "    .dataframe tbody tr th {\n",
       "        vertical-align: top;\n",
       "    }\n",
       "\n",
       "    .dataframe thead th {\n",
       "        text-align: right;\n",
       "    }\n",
       "</style>\n",
       "<table border=\"1\" class=\"dataframe\">\n",
       "  <thead>\n",
       "    <tr style=\"text-align: right;\">\n",
       "      <th></th>\n",
       "      <th>CRIM</th>\n",
       "      <th>ZN</th>\n",
       "      <th>INDUS</th>\n",
       "      <th>CHAS</th>\n",
       "      <th>NOX</th>\n",
       "      <th>RM</th>\n",
       "      <th>AGE</th>\n",
       "      <th>DIS</th>\n",
       "      <th>RAD</th>\n",
       "      <th>TAX</th>\n",
       "      <th>PTRATIO</th>\n",
       "      <th>B</th>\n",
       "      <th>LSTAT</th>\n",
       "      <th>MEDV</th>\n",
       "    </tr>\n",
       "  </thead>\n",
       "  <tbody>\n",
       "    <tr>\n",
       "      <th>0</th>\n",
       "      <td>0.00632</td>\n",
       "      <td>18.0</td>\n",
       "      <td>2.31</td>\n",
       "      <td>0</td>\n",
       "      <td>0.538</td>\n",
       "      <td>6.575</td>\n",
       "      <td>65.2</td>\n",
       "      <td>4.0900</td>\n",
       "      <td>1</td>\n",
       "      <td>296.0</td>\n",
       "      <td>15.3</td>\n",
       "      <td>396.90</td>\n",
       "      <td>4.98</td>\n",
       "      <td>24.0</td>\n",
       "    </tr>\n",
       "    <tr>\n",
       "      <th>1</th>\n",
       "      <td>0.02731</td>\n",
       "      <td>0.0</td>\n",
       "      <td>7.07</td>\n",
       "      <td>0</td>\n",
       "      <td>0.469</td>\n",
       "      <td>6.421</td>\n",
       "      <td>78.9</td>\n",
       "      <td>4.9671</td>\n",
       "      <td>2</td>\n",
       "      <td>242.0</td>\n",
       "      <td>17.8</td>\n",
       "      <td>396.90</td>\n",
       "      <td>9.14</td>\n",
       "      <td>21.6</td>\n",
       "    </tr>\n",
       "    <tr>\n",
       "      <th>2</th>\n",
       "      <td>0.02729</td>\n",
       "      <td>0.0</td>\n",
       "      <td>7.07</td>\n",
       "      <td>0</td>\n",
       "      <td>0.469</td>\n",
       "      <td>7.185</td>\n",
       "      <td>61.1</td>\n",
       "      <td>4.9671</td>\n",
       "      <td>2</td>\n",
       "      <td>242.0</td>\n",
       "      <td>17.8</td>\n",
       "      <td>392.83</td>\n",
       "      <td>4.03</td>\n",
       "      <td>34.7</td>\n",
       "    </tr>\n",
       "    <tr>\n",
       "      <th>3</th>\n",
       "      <td>0.03237</td>\n",
       "      <td>0.0</td>\n",
       "      <td>2.18</td>\n",
       "      <td>0</td>\n",
       "      <td>0.458</td>\n",
       "      <td>6.998</td>\n",
       "      <td>45.8</td>\n",
       "      <td>6.0622</td>\n",
       "      <td>3</td>\n",
       "      <td>222.0</td>\n",
       "      <td>18.7</td>\n",
       "      <td>394.63</td>\n",
       "      <td>2.94</td>\n",
       "      <td>33.4</td>\n",
       "    </tr>\n",
       "    <tr>\n",
       "      <th>4</th>\n",
       "      <td>0.06905</td>\n",
       "      <td>0.0</td>\n",
       "      <td>2.18</td>\n",
       "      <td>0</td>\n",
       "      <td>0.458</td>\n",
       "      <td>7.147</td>\n",
       "      <td>54.2</td>\n",
       "      <td>6.0622</td>\n",
       "      <td>3</td>\n",
       "      <td>222.0</td>\n",
       "      <td>18.7</td>\n",
       "      <td>396.90</td>\n",
       "      <td>5.33</td>\n",
       "      <td>36.2</td>\n",
       "    </tr>\n",
       "    <tr>\n",
       "      <th>...</th>\n",
       "      <td>...</td>\n",
       "      <td>...</td>\n",
       "      <td>...</td>\n",
       "      <td>...</td>\n",
       "      <td>...</td>\n",
       "      <td>...</td>\n",
       "      <td>...</td>\n",
       "      <td>...</td>\n",
       "      <td>...</td>\n",
       "      <td>...</td>\n",
       "      <td>...</td>\n",
       "      <td>...</td>\n",
       "      <td>...</td>\n",
       "      <td>...</td>\n",
       "    </tr>\n",
       "    <tr>\n",
       "      <th>501</th>\n",
       "      <td>0.06263</td>\n",
       "      <td>0.0</td>\n",
       "      <td>11.93</td>\n",
       "      <td>0</td>\n",
       "      <td>0.573</td>\n",
       "      <td>6.593</td>\n",
       "      <td>69.1</td>\n",
       "      <td>2.4786</td>\n",
       "      <td>1</td>\n",
       "      <td>273.0</td>\n",
       "      <td>21.0</td>\n",
       "      <td>391.99</td>\n",
       "      <td>9.67</td>\n",
       "      <td>22.4</td>\n",
       "    </tr>\n",
       "    <tr>\n",
       "      <th>502</th>\n",
       "      <td>0.04527</td>\n",
       "      <td>0.0</td>\n",
       "      <td>11.93</td>\n",
       "      <td>0</td>\n",
       "      <td>0.573</td>\n",
       "      <td>6.120</td>\n",
       "      <td>76.7</td>\n",
       "      <td>2.2875</td>\n",
       "      <td>1</td>\n",
       "      <td>273.0</td>\n",
       "      <td>21.0</td>\n",
       "      <td>396.90</td>\n",
       "      <td>9.08</td>\n",
       "      <td>20.6</td>\n",
       "    </tr>\n",
       "    <tr>\n",
       "      <th>503</th>\n",
       "      <td>0.06076</td>\n",
       "      <td>0.0</td>\n",
       "      <td>11.93</td>\n",
       "      <td>0</td>\n",
       "      <td>0.573</td>\n",
       "      <td>6.976</td>\n",
       "      <td>91.0</td>\n",
       "      <td>2.1675</td>\n",
       "      <td>1</td>\n",
       "      <td>273.0</td>\n",
       "      <td>21.0</td>\n",
       "      <td>396.90</td>\n",
       "      <td>5.64</td>\n",
       "      <td>23.9</td>\n",
       "    </tr>\n",
       "    <tr>\n",
       "      <th>504</th>\n",
       "      <td>0.10959</td>\n",
       "      <td>0.0</td>\n",
       "      <td>11.93</td>\n",
       "      <td>0</td>\n",
       "      <td>0.573</td>\n",
       "      <td>6.794</td>\n",
       "      <td>89.3</td>\n",
       "      <td>2.3889</td>\n",
       "      <td>1</td>\n",
       "      <td>273.0</td>\n",
       "      <td>21.0</td>\n",
       "      <td>393.45</td>\n",
       "      <td>6.48</td>\n",
       "      <td>22.0</td>\n",
       "    </tr>\n",
       "    <tr>\n",
       "      <th>505</th>\n",
       "      <td>0.04741</td>\n",
       "      <td>0.0</td>\n",
       "      <td>11.93</td>\n",
       "      <td>0</td>\n",
       "      <td>0.573</td>\n",
       "      <td>6.030</td>\n",
       "      <td>80.8</td>\n",
       "      <td>2.5050</td>\n",
       "      <td>1</td>\n",
       "      <td>273.0</td>\n",
       "      <td>21.0</td>\n",
       "      <td>396.90</td>\n",
       "      <td>7.88</td>\n",
       "      <td>11.9</td>\n",
       "    </tr>\n",
       "  </tbody>\n",
       "</table>\n",
       "<p>506 rows × 14 columns</p>\n",
       "</div>"
      ],
      "text/plain": [
       "        CRIM    ZN  INDUS  CHAS    NOX     RM   AGE     DIS  RAD    TAX  \\\n",
       "0    0.00632  18.0   2.31     0  0.538  6.575  65.2  4.0900    1  296.0   \n",
       "1    0.02731   0.0   7.07     0  0.469  6.421  78.9  4.9671    2  242.0   \n",
       "2    0.02729   0.0   7.07     0  0.469  7.185  61.1  4.9671    2  242.0   \n",
       "3    0.03237   0.0   2.18     0  0.458  6.998  45.8  6.0622    3  222.0   \n",
       "4    0.06905   0.0   2.18     0  0.458  7.147  54.2  6.0622    3  222.0   \n",
       "..       ...   ...    ...   ...    ...    ...   ...     ...  ...    ...   \n",
       "501  0.06263   0.0  11.93     0  0.573  6.593  69.1  2.4786    1  273.0   \n",
       "502  0.04527   0.0  11.93     0  0.573  6.120  76.7  2.2875    1  273.0   \n",
       "503  0.06076   0.0  11.93     0  0.573  6.976  91.0  2.1675    1  273.0   \n",
       "504  0.10959   0.0  11.93     0  0.573  6.794  89.3  2.3889    1  273.0   \n",
       "505  0.04741   0.0  11.93     0  0.573  6.030  80.8  2.5050    1  273.0   \n",
       "\n",
       "     PTRATIO       B  LSTAT  MEDV  \n",
       "0       15.3  396.90   4.98  24.0  \n",
       "1       17.8  396.90   9.14  21.6  \n",
       "2       17.8  392.83   4.03  34.7  \n",
       "3       18.7  394.63   2.94  33.4  \n",
       "4       18.7  396.90   5.33  36.2  \n",
       "..       ...     ...    ...   ...  \n",
       "501     21.0  391.99   9.67  22.4  \n",
       "502     21.0  396.90   9.08  20.6  \n",
       "503     21.0  396.90   5.64  23.9  \n",
       "504     21.0  393.45   6.48  22.0  \n",
       "505     21.0  396.90   7.88  11.9  \n",
       "\n",
       "[506 rows x 14 columns]"
      ]
     },
     "execution_count": 13,
     "metadata": {},
     "output_type": "execute_result"
    }
   ],
   "source": [
    "df = pd.read_csv('housing.data', delim_whitespace=True, header=None)\n",
    "df.columns = ['CRIM', 'ZN' , 'INDUS', 'CHAS', 'NOX', 'RM', 'AGE',\n",
    "              'DIS', 'RAD', 'TAX', 'PTRATIO', 'B', 'LSTAT', 'MEDV']\n",
    "df"
   ]
  },
  {
   "cell_type": "code",
   "execution_count": 39,
   "metadata": {
    "id": "4hy9JANvHdld"
   },
   "outputs": [],
   "source": [
    "X = df[['LSTAT']].values\n",
    "y = df[['MEDV']].values"
   ]
  },
  {
   "cell_type": "code",
   "execution_count": 40,
   "metadata": {},
   "outputs": [
    {
     "data": {
      "text/plain": [
       "(506, 1)"
      ]
     },
     "execution_count": 40,
     "metadata": {},
     "output_type": "execute_result"
    }
   ],
   "source": [
    "X.shape"
   ]
  },
  {
   "cell_type": "code",
   "execution_count": 23,
   "metadata": {},
   "outputs": [
    {
     "data": {
      "text/plain": [
       "1"
      ]
     },
     "execution_count": 23,
     "metadata": {},
     "output_type": "execute_result"
    }
   ],
   "source": [
    "y.shape[1]"
   ]
  },
  {
   "cell_type": "code",
   "execution_count": 67,
   "metadata": {},
   "outputs": [
    {
     "data": {
      "text/plain": [
       "array([[-4.12254149e+98, -7.52524902e+98, -3.34548088e+98, ...,\n",
       "        -4.66239413e+98, -5.34947930e+98, -6.49462126e+98],\n",
       "       [-4.12254149e+98, -7.52524902e+98, -3.34548088e+98, ...,\n",
       "        -4.66239413e+98, -5.34947930e+98, -6.49462126e+98],\n",
       "       [-4.12254149e+98, -7.52524902e+98, -3.34548088e+98, ...,\n",
       "        -4.66239413e+98, -5.34947930e+98, -6.49462126e+98],\n",
       "       ...,\n",
       "       [-4.12254149e+98, -7.52524902e+98, -3.34548088e+98, ...,\n",
       "        -4.66239413e+98, -5.34947930e+98, -6.49462126e+98],\n",
       "       [-4.12254149e+98, -7.52524902e+98, -3.34548088e+98, ...,\n",
       "        -4.66239413e+98, -5.34947930e+98, -6.49462126e+98],\n",
       "       [-4.12254149e+98, -7.52524902e+98, -3.34548088e+98, ...,\n",
       "        -4.66239413e+98, -5.34947930e+98, -6.49462126e+98]])"
      ]
     },
     "execution_count": 67,
     "metadata": {},
     "output_type": "execute_result"
    }
   ],
   "source": [
    "errors"
   ]
  },
  {
   "cell_type": "code",
   "execution_count": 61,
   "metadata": {},
   "outputs": [
    {
     "data": {
      "text/plain": [
       "array([-1.01767983e+51, -1.86778989e+51, -8.23544120e+50, -6.00798936e+50,\n",
       "       -1.08920351e+51, -1.06468111e+51, -2.54011251e+51, -3.91336722e+51,\n",
       "       -6.11629665e+51, -3.49444279e+51, -4.17902661e+51, -2.71176935e+51,\n",
       "       -3.21039159e+51, -1.68795892e+51, -2.09666567e+51, -1.73087313e+51,\n",
       "       -1.34464524e+51, -2.99786408e+51, -2.38889101e+51, -2.30510612e+51,\n",
       "       -4.29550804e+51, -2.82620724e+51, -3.82549527e+51, -4.06254519e+51,\n",
       "       -3.33096009e+51, -3.37387430e+51, -3.02647355e+51, -3.53122640e+51,\n",
       "       -2.61572326e+51, -2.44815349e+51, -4.61838638e+51, -2.66476807e+51,\n",
       "       -5.66263215e+51, -3.74988452e+51, -4.15654774e+51, -1.97814071e+51,\n",
       "       -2.33167206e+51, -1.79217914e+51, -2.07009974e+51, -8.82806600e+50,\n",
       "       -4.04619692e+50, -9.89070357e+50, -1.18729314e+51, -1.52038914e+51,\n",
       "       -1.95157478e+51, -2.08644801e+51, -2.89160032e+51, -3.84184354e+51,\n",
       "       -6.29612763e+51, -3.31052475e+51, -2.74855296e+51, -1.92705237e+51,\n",
       "       -1.07898584e+51, -1.72269899e+51, -3.02443002e+51, -9.82939756e+50,\n",
       "       -1.17911900e+51, -8.07195850e+50, -1.40186418e+51, -1.88413816e+51,\n",
       "       -2.68724694e+51, -2.95086280e+51, -1.37529824e+51, -1.94135711e+51,\n",
       "       -1.64504471e+51, -9.54330283e+50, -2.09257861e+51, -1.65526237e+51,\n",
       "       -2.67498574e+51, -1.79626621e+51, -1.37325471e+51, -2.01901139e+51,\n",
       "       -1.12803066e+51, -1.54082448e+51, -1.38551591e+51, -1.82691921e+51,\n",
       "       -2.44610995e+51, -2.09870921e+51, -2.52172070e+51, -1.85961575e+51,\n",
       "       -1.08102938e+51, -1.47543140e+51, -1.37325471e+51, -1.53469388e+51,\n",
       "       -1.96587951e+51, -1.33442757e+51, -2.62798446e+51, -1.72474252e+51,\n",
       "       -1.12394359e+51, -1.16481426e+51, -1.80035327e+51, -1.67569771e+51,\n",
       "       -1.66752358e+51, -1.26903449e+51, -2.16410229e+51, -1.35894997e+51,\n",
       "       -2.31736732e+51, -8.60327728e+50, -7.29541565e+50, -1.26494742e+51,\n",
       "       -1.92500884e+51, -1.56739042e+51, -2.17227643e+51, -2.74650942e+51,\n",
       "       -2.51967717e+51, -3.36570016e+51, -3.81323406e+51, -2.87933912e+51,\n",
       "       -2.50741597e+51, -3.17769505e+51, -2.65659394e+51, -2.07623034e+51,\n",
       "       -3.31256828e+51, -3.49239926e+51, -2.13549282e+51, -3.22060926e+51,\n",
       "       -2.46041469e+51, -2.10483981e+51, -3.14091144e+51, -2.78124950e+51,\n",
       "       -2.93655807e+51, -2.91612273e+51, -3.66405610e+51, -5.19261938e+51,\n",
       "       -3.59253241e+51, -3.02647355e+51, -5.57067313e+51, -3.51283460e+51,\n",
       "       -3.14499851e+51, -3.74784098e+51, -2.57485258e+51, -2.50537243e+51,\n",
       "       -2.27240958e+51, -3.07143130e+51, -3.53735700e+51, -3.46583332e+51,\n",
       "       -3.45357212e+51, -2.98151581e+51, -4.35681405e+51, -3.77236339e+51,\n",
       "       -4.93717765e+51, -7.03179979e+51, -5.48075764e+51, -5.39901629e+51,\n",
       "       -5.98551049e+51, -5.68102395e+51, -3.40248377e+51, -6.03455530e+51,\n",
       "       -5.78728771e+51, -4.38337999e+51, -2.88138265e+51, -2.71381288e+51,\n",
       "       -2.47676296e+51, -3.22673986e+51, -3.08982310e+51, -3.06938776e+51,\n",
       "       -3.29826355e+51, -9.37982012e+50, -1.31399223e+51, -1.51017148e+51,\n",
       "       -1.12394359e+51, -3.53531347e+50, -3.92358489e+50, -6.78453220e+50,\n",
       "       -2.37867334e+51, -2.00470665e+51, -7.56107505e+50, -2.48085003e+51,\n",
       "       -2.26832251e+51, -2.31328026e+51, -2.94881927e+51, -2.45837116e+51,\n",
       "       -3.00195115e+51, -1.84735455e+51, -1.96996658e+51, -1.08920351e+51,\n",
       "       -2.06601267e+51, -1.28538276e+51, -1.41412539e+51, -1.02994103e+51,\n",
       "       -1.54491155e+51, -1.93113944e+51, -9.84983290e+50, -1.16072720e+51,\n",
       "       -2.85686025e+51, -2.68724694e+51, -9.09372539e+50, -1.36508058e+51,\n",
       "       -9.31851411e+50, -1.10146472e+51, -1.04220224e+51, -9.58417350e+50,\n",
       "       -5.86494200e+50, -1.02789750e+51, -8.95067803e+50, -6.06929537e+50,\n",
       "       -8.33761789e+50, -1.75948260e+51, -1.35281937e+51, -9.31851411e+50,\n",
       "       -9.09372539e+50, -1.51834561e+51, -6.35539011e+50, -7.78586376e+50,\n",
       "       -5.88537733e+50, -2.22132124e+51, -2.24175657e+51, -3.69062204e+51,\n",
       "       -2.99582055e+51, -4.71851954e+51, -3.52918287e+51, -4.90039404e+51,\n",
       "       -3.27578468e+51, -1.91683470e+51, -6.03864237e+51, -1.93522651e+51,\n",
       "       -2.76081416e+51, -1.98018425e+51, -3.66201256e+51, -2.14571049e+51,\n",
       "       -1.98427132e+51, -4.38542353e+51, -2.02922906e+51, -1.55308569e+51,\n",
       "       -8.46022992e+50, -9.46156148e+50, -6.39626078e+50, -1.29968749e+51,\n",
       "       -8.01065248e+50, -7.68368707e+50, -2.38071687e+51, -1.07285524e+51,\n",
       "       -5.04752848e+50, -8.07195850e+50, -1.64504471e+51, -2.22336477e+51,\n",
       "       -1.94953124e+51, -9.66591486e+50, -1.29968749e+51, -1.50608441e+51,\n",
       "       -2.32554146e+51, -2.53398191e+51, -2.29284492e+51, -1.06059404e+51,\n",
       "       -2.55441725e+51, -3.77236339e+51, -1.87187696e+51, -2.07418680e+51,\n",
       "       -1.94544417e+51, -1.34055817e+51, -1.20568494e+51, -7.33628633e+50,\n",
       "       -7.21367430e+50, -7.23410964e+50, -1.34260170e+51, -1.89026876e+51,\n",
       "       -6.35539011e+50, -1.04628930e+51, -1.59191283e+51, -1.41003832e+51,\n",
       "       -1.95974891e+51, -1.48360554e+51, -1.20772847e+51, -2.29897552e+51,\n",
       "       -1.65526237e+51, -2.13549282e+51, -3.02238648e+51, -1.52038914e+51,\n",
       "       -6.45756680e+50, -2.78942363e+51, -2.65659394e+51, -1.34668877e+51,\n",
       "       -1.57965162e+51, -1.34464524e+51, -7.21367430e+50, -6.08973071e+50,\n",
       "       -1.23633795e+51, -8.50110059e+50, -1.46930080e+51, -9.91113891e+50,\n",
       "       -7.68368707e+50, -9.37982012e+50, -6.15103673e+50, -6.45756680e+50,\n",
       "       -1.60417403e+51, -1.68182831e+51, -2.64228920e+51, -1.45908313e+51,\n",
       "       -1.55308569e+51, -1.94340064e+51, -6.80496754e+50, -7.27498031e+50,\n",
       "       -9.60460884e+50, -1.75335200e+51, -2.12527515e+51, -1.28129569e+51,\n",
       "       -1.51017148e+51, -3.23695753e+51, -1.01563630e+51, -9.68635019e+50,\n",
       "       -1.24042501e+51, -1.94135711e+51, -1.77174380e+51, -9.93157425e+50,\n",
       "       -1.41616892e+51, -1.82487568e+51, -1.32216637e+51, -1.53878095e+51,\n",
       "       -9.27764343e+50, -2.03740319e+51, -2.58302672e+51, -1.22203321e+51,\n",
       "       -2.39502161e+51, -1.61439170e+51, -1.89639936e+51, -2.35006387e+51,\n",
       "       -3.74579745e+51, -3.25739287e+51, -2.11710101e+51, -2.60141852e+51,\n",
       "       -1.47134433e+51, -1.40390772e+51, -1.57352102e+51, -2.39910868e+51,\n",
       "       -1.25064268e+51, -1.03811517e+51, -1.25677328e+51, -2.61367973e+51,\n",
       "       -2.03740319e+51, -1.49995381e+51, -1.85757222e+51, -2.54011251e+51,\n",
       "       -1.60008696e+51, -1.16072720e+51, -1.37938531e+51, -1.63687057e+51,\n",
       "       -2.00266312e+51, -2.15797169e+51, -1.73904726e+51, -1.99040192e+51,\n",
       "       -1.89844290e+51, -1.12190005e+51, -1.76765673e+51, -1.46725727e+51,\n",
       "       -9.42069080e+50, -2.15184109e+51, -2.58915732e+51, -1.29968749e+51,\n",
       "       -1.22407674e+51, -1.20364141e+51, -1.22203321e+51, -1.12190005e+51,\n",
       "       -1.59191283e+51, -9.19590208e+50, -1.64504471e+51, -1.13824832e+51,\n",
       "       -3.59661948e+51, -2.71176935e+51, -2.34597680e+51, -2.58915732e+51,\n",
       "       -1.59191283e+51, -2.89977446e+51, -2.08236094e+51, -2.99173348e+51,\n",
       "       -1.08102938e+51, -1.45499606e+51, -2.86094731e+51, -2.72403055e+51,\n",
       "       -6.66192018e+50, -7.62238106e+50, -6.04886004e+50, -1.94748771e+51,\n",
       "       -1.81465801e+51, -7.10536701e+51, -7.75929782e+51, -2.74650942e+51,\n",
       "       -4.74917254e+51, -4.34046578e+51, -4.84113156e+51, -4.45081661e+51,\n",
       "       -3.51692166e+51, -4.30776924e+51, -4.82273976e+51, -5.01891900e+51,\n",
       "       -6.25934402e+51, -6.29612763e+51, -5.77911358e+51, -6.53726461e+51,\n",
       "       -6.25730048e+51, -4.26076797e+51, -3.49648633e+51, -3.83366940e+51,\n",
       "       -5.24779479e+51, -3.10004077e+51, -3.34117776e+51, -3.49852986e+51,\n",
       "       -3.95832496e+51, -4.07071932e+51, -6.25116988e+51, -6.12447079e+51,\n",
       "       -5.47053997e+51, -4.15246067e+51, -4.15041714e+51, -4.04006632e+51,\n",
       "       -5.59519553e+51, -4.69604066e+51, -4.76960788e+51, -2.47880649e+51,\n",
       "       -5.39492922e+51, -4.04210985e+51, -2.06601267e+51, -4.33637872e+51,\n",
       "       -7.02362566e+51, -4.10341586e+51, -7.55698798e+51, -5.93646568e+51,\n",
       "       -5.27027366e+51, -5.44397403e+51, -4.21376669e+51, -4.64699585e+51,\n",
       "       -3.06938776e+51, -3.20834806e+51, -2.88138265e+51, -4.75939021e+51,\n",
       "       -3.50670399e+51, -4.98417893e+51, -3.20630453e+51, -2.96721107e+51,\n",
       "       -4.39768473e+51, -4.92082938e+51, -3.60479362e+51, -4.02371804e+51,\n",
       "       -2.45837116e+51, -3.31461182e+51, -3.10004077e+51, -4.75530314e+51,\n",
       "       -3.68857850e+51, -5.40514689e+51, -6.95210197e+51, -4.67560533e+51,\n",
       "       -4.51825322e+51, -3.98897797e+51, -3.39022257e+51, -3.85206121e+51,\n",
       "       -4.86156690e+51, -4.90039404e+51, -3.63544662e+51, -3.35956956e+51,\n",
       "       -3.70492677e+51, -3.94606376e+51, -3.56392294e+51, -3.62318542e+51,\n",
       "       -3.52918287e+51, -3.42087557e+51, -3.82345173e+51, -3.70492677e+51,\n",
       "       -3.88475775e+51, -3.46174625e+51, -3.31665535e+51, -3.00399468e+51,\n",
       "       -3.35548249e+51, -2.99377701e+51, -2.85890378e+51, -2.10279628e+51,\n",
       "       -2.70155168e+51, -2.88751325e+51, -3.50466046e+51, -4.35681405e+51,\n",
       "       -3.70492677e+51, -3.01625588e+51, -3.32891655e+51, -2.63002800e+51,\n",
       "       -2.93451453e+51, -2.38276041e+51, -3.70697031e+51, -4.92491645e+51,\n",
       "       -3.81732113e+51, -5.09044269e+51, -3.68449143e+51, -2.67907281e+51,\n",
       "       -2.19475530e+51, -1.58169516e+51, -1.43251719e+51, -2.12936222e+51,\n",
       "       -2.72607408e+51, -2.16205876e+51, -3.06121363e+51, -2.33984620e+51,\n",
       "       -3.69062204e+51, -4.89835051e+51, -6.06520831e+51, -3.69266557e+51,\n",
       "       -2.72811762e+51, -2.45428409e+51, -2.77716243e+51, -3.59661948e+51,\n",
       "       -4.32003045e+51, -2.88138265e+51, -2.64024566e+51, -3.08573603e+51,\n",
       "       -2.92838393e+51, -1.97609718e+51, -1.85552869e+51, -1.15255306e+51,\n",
       "       -1.32420990e+51, -1.61030463e+51])"
      ]
     },
     "execution_count": 61,
     "metadata": {},
     "output_type": "execute_result"
    }
   ],
   "source": [
    "errors[0]"
   ]
  },
  {
   "cell_type": "code",
   "execution_count": 70,
   "metadata": {},
   "outputs": [
    {
     "name": "stdout",
     "output_type": "stream",
     "text": [
      "[0. 0.]\n",
      "[-9.14770739e+102]\n"
     ]
    }
   ],
   "source": [
    "alpha = 0.0001\n",
    "w_ = np.zeros(1 + X.shape[1])\n",
    "print(w_)\n",
    "cost_ = []\n",
    "n_ = 100\n",
    "\n",
    "for i in range(n_):\n",
    "    y_pred = np.dot(X, w_[1:]) + w_[0]\n",
    "    errors = (y - y_pred)\n",
    "    w_[1:] = alpha * X.T.dot(errors[0])\n",
    "print(w_[1:])"
   ]
  },
  {
   "cell_type": "code",
   "execution_count": 19,
   "metadata": {
    "colab": {
     "base_uri": "https://localhost:8080/",
     "height": 378
    },
    "id": "j3x_8dKMHdlf",
    "outputId": "6f380cdd-a385-4add-c6c9-eb19339cf83a"
   },
   "outputs": [
    {
     "data": {
      "image/png": "[encoded data removed]",
      "text/plain": [
       "<Figure size 576x432 with 1 Axes>"
      ]
     },
     "metadata": {
      "needs_background": "light"
     },
     "output_type": "display_data"
    }
   ],
   "source": [
    "plt.figure(figsize=(8,6))\n",
    "plt.scatter(X, y);"
   ]
  },
  {
   "cell_type": "markdown",
   "metadata": {
    "id": "4CEwy57aHdlh"
   },
   "source": [
    "## Without Pre-processing"
   ]
  },
  {
   "cell_type": "code",
   "execution_count": 66,
   "metadata": {
    "colab": {
     "base_uri": "https://localhost:8080/",
     "height": 399
    },
    "id": "oQ3zY0ajHdli",
    "outputId": "991edc30-52cc-4cf1-b83d-53ed6ebab253"
   },
   "outputs": [
    {
     "data": {
      "image/png": "[encoded data removed]",
      "text/plain": [
       "<Figure size 576x432 with 1 Axes>"
      ]
     },
     "metadata": {
      "needs_background": "light"
     },
     "output_type": "display_data"
    }
   ],
   "source": [
    "alpha = 0.0001\n",
    "w_ = np.zeros(1 + X.shape[1])\n",
    "cost_ = []\n",
    "n_ = 100\n",
    "\n",
    "for i in range(n_):\n",
    "    y_pred = np.dot(X, w_[1:]) + w_[0]\n",
    "    errors = (y - y_pred)\n",
    "\n",
    "    w_[1:] += (alpha * X.T.dot(errors[0]))\n",
    "    w_[0] += alpha * errors[0].sum()\n",
    "\n",
    "    cost = (errors[0]**2).sum() / 2.0\n",
    "    cost_.append(cost)\n",
    "\n",
    "plt.figure(figsize=(8,6))\n",
    "plt.plot(range(1, n_ + 1), cost_);\n",
    "plt.ylabel('SSE');\n",
    "plt.xlabel('Epoch');"
   ]
  },
  {
   "cell_type": "markdown",
   "metadata": {
    "id": "ivHJD8h7Hdlk"
   },
   "source": [
    "# With Pre-processing"
   ]
  },
  {
   "cell_type": "code",
   "execution_count": 71,
   "metadata": {
    "id": "cqyvU8I4Hdll"
   },
   "outputs": [],
   "source": [
    "from sklearn.preprocessing import StandardScaler\n",
    "sc_x = StandardScaler()\n",
    "sc_y = StandardScaler()\n",
    "X_std = sc_x.fit_transform(X)\n",
    "y_std = sc_y.fit_transform(y.reshape(-1,1)).flatten()"
   ]
  },
  {
   "cell_type": "code",
   "execution_count": 72,
   "metadata": {
    "colab": {
     "base_uri": "https://localhost:8080/",
     "height": 392
    },
    "id": "L9ZVZj1gHdln",
    "outputId": "650e41bf-c38a-410d-c424-01f4d89721c3"
   },
   "outputs": [
    {
     "data": {
      "image/png": "[encoded data removed]",
      "text/plain": [
       "<Figure size 576x432 with 1 Axes>"
      ]
     },
     "metadata": {
      "needs_background": "light"
     },
     "output_type": "display_data"
    }
   ],
   "source": [
    "alpha = 0.0001\n",
    "w_ = np.zeros(1 + X_std.shape[1])\n",
    "cost_ = []\n",
    "n_ = 100\n",
    "\n",
    "for i in range(n_):\n",
    "    y_pred = np.dot(X_std, w_[1:]) + w_[0]\n",
    "    errors = (y_std - y_pred)\n",
    "\n",
    "    w_[1:] += alpha * X_std.T.dot(errors)\n",
    "    w_[0] += alpha * errors.sum()\n",
    "\n",
    "    cost = (errors**2).sum() / 2.0\n",
    "    cost_.append(cost)\n",
    "plt.figure(figsize=(8,6))\n",
    "plt.plot(range(1, n_ + 1), cost_);\n",
    "plt.ylabel('SSE');\n",
    "plt.xlabel('Epoch');"
   ]
  },
  {
   "cell_type": "markdown",
   "metadata": {
    "id": "Oh_SqiU7Hdlp"
   },
   "source": [
    "***"
   ]
  },
  {
   "cell_type": "markdown",
   "metadata": {
    "id": "SKoUgAjTHdlq"
   },
   "source": [
    "Before Scaling"
   ]
  },
  {
   "cell_type": "code",
   "execution_count": 73,
   "metadata": {
    "colab": {
     "base_uri": "https://localhost:8080/",
     "height": 378
    },
    "id": "XC8fIlfNHdlr",
    "outputId": "61caab54-927e-479a-d7db-da6e789c7cf5"
   },
   "outputs": [
    {
     "data": {
      "image/png": "[encoded data removed]",
      "text/plain": [
       "<Figure size 576x432 with 1 Axes>"
      ]
     },
     "metadata": {
      "needs_background": "light"
     },
     "output_type": "display_data"
    }
   ],
   "source": [
    "plt.figure(figsize=(8,6))\n",
    "plt.hist(X);\n",
    "plt.xlim(-40, 40);"
   ]
  },
  {
   "cell_type": "markdown",
   "metadata": {
    "id": "wMhK3qlyHdlt"
   },
   "source": [
    "After Scaling"
   ]
  },
  {
   "cell_type": "code",
   "execution_count": 74,
   "metadata": {
    "colab": {
     "base_uri": "https://localhost:8080/",
     "height": 378
    },
    "id": "bEdRoOQjHdlt",
    "outputId": "612a0657-0254-4f16-f8c9-186455cf88e2"
   },
   "outputs": [
    {
     "data": {
      "image/png": "[encoded data removed]",
      "text/plain": [
       "<Figure size 576x432 with 1 Axes>"
      ]
     },
     "metadata": {
      "needs_background": "light"
     },
     "output_type": "display_data"
    }
   ],
   "source": [
    "plt.figure(figsize=(8,6))\n",
    "plt.hist(X_std);\n",
    "plt.xlim(-4, 4);"
   ]
  },
  {
   "cell_type": "markdown",
   "metadata": {
    "id": "Gr0CGjqVHdlv"
   },
   "source": [
    "***"
   ]
  },
  {
   "cell_type": "markdown",
   "metadata": {
    "id": "YzxlrZudHdlw"
   },
   "source": [
    "# Data Pre-processing"
   ]
  },
  {
   "cell_type": "markdown",
   "metadata": {
    "id": "57p8cpD2Hdlx"
   },
   "source": [
    "* Standardization / Mean Removal\n",
    "\n",
    "* Min-Max or Scaling Features to a Range\n",
    "\n",
    "* Normalization\n",
    "\n",
    "* Binarization"
   ]
  },
  {
   "cell_type": "markdown",
   "metadata": {
    "id": "37O2jgYBHdly"
   },
   "source": [
    "**Assumptions**:\n",
    "\n",
    "* Implicit/explicit assumption of machine learning algorithms: The features follow a normal distribution.\n",
    "* Most method are based on linear assumptions\n",
    "* Most machine learning requires the data to be standard normally distributed. Gaussian with zero mean and unit variance.\n",
    "\n",
    "[scikit-learn:](http://scikit-learn.org/stable/modules/preprocessing.html)\n",
    "\n",
    "In practice we often ignore the shape of the distribution and just transform the data to center it by removing the mean value of each feature, then scale it by dividing non-constant features by their standard deviation.\n",
    "\n",
    "For instance, many elements used in the objective function of a learning algorithm (such as the RBF kernel of Support Vector Machines or the l1 and l2 regularizers of linear models) **assume that all features are centered around zero and have variance in the same order**. If a feature has a variance that is orders of magnitude larger than others, it might dominate the objective function and make the estimator unable to learn from other features correctly as expected.\n",
    "\n"
   ]
  },
  {
   "cell_type": "code",
   "execution_count": 75,
   "metadata": {
    "id": "M3_iOzGmHdly"
   },
   "outputs": [],
   "source": [
    "from sklearn import preprocessing"
   ]
  },
  {
   "cell_type": "code",
   "execution_count": 76,
   "metadata": {
    "id": "9hn2uTQaHdl0"
   },
   "outputs": [],
   "source": [
    "X_train = np.array([[ 1., -1.,  2.],\n",
    "                    [ 2.,  0.,  0.],\n",
    "                    [ 0.,  1., -1.]])"
   ]
  },
  {
   "cell_type": "code",
   "execution_count": 77,
   "metadata": {
    "colab": {
     "base_uri": "https://localhost:8080/",
     "height": 34
    },
    "id": "vggdNecxHdl2",
    "outputId": "3dad6b0b-71bb-42ae-eac1-6b21a90d9d80"
   },
   "outputs": [
    {
     "data": {
      "text/plain": [
       "array([1.        , 0.        , 0.33333333])"
      ]
     },
     "execution_count": 77,
     "metadata": {},
     "output_type": "execute_result"
    }
   ],
   "source": [
    "X_train.mean(axis=0)"
   ]
  },
  {
   "cell_type": "markdown",
   "metadata": {
    "id": "6zFdMmwAHdl4"
   },
   "source": [
    "# Standardization / Mean Removal / Variance Scaling\n",
    "\n",
    "[scikit Scale](http://scikit-learn.org/stable/modules/preprocessing.html#standardization-or-mean-removal-and-variance-scaling)"
   ]
  },
  {
   "cell_type": "markdown",
   "metadata": {
    "id": "pv1Wvf78Hdl5"
   },
   "source": [
    "Mean is removed. Data is centered on zero. This is to remove bias.\n",
    "\n",
    "Standardization of datasets is a common requirement for many machine learning estimators implemented in scikit-learn; they might behave badly if the individual features do not more or less look like standard normally distributed data: Gaussian with zero mean and unit variance. \"standard normal\" random variable with mean 0 and standard deviation 1.\n",
    "\n",
    "$$X'=\\frac{X-\\bar{X}}{\\sigma}$$"
   ]
  },
  {
   "cell_type": "code",
   "execution_count": 78,
   "metadata": {
    "colab": {
     "base_uri": "https://localhost:8080/",
     "height": 68
    },
    "id": "4ddxzEClHdl6",
    "outputId": "81c19001-a8f6-49a9-d9db-d4ca63ee1666"
   },
   "outputs": [
    {
     "data": {
      "text/plain": [
       "array([[ 0.        , -1.22474487,  1.33630621],\n",
       "       [ 1.22474487,  0.        , -0.26726124],\n",
       "       [-1.22474487,  1.22474487, -1.06904497]])"
      ]
     },
     "execution_count": 78,
     "metadata": {},
     "output_type": "execute_result"
    }
   ],
   "source": [
    "X_scaled = preprocessing.scale(X_train)\n",
    "X_scaled"
   ]
  },
  {
   "cell_type": "markdown",
   "metadata": {
    "id": "ek5DqbD4Hdl8"
   },
   "source": [
    "Scaled data has zero mean and unit variance (unit variance means variance = 1):"
   ]
  },
  {
   "cell_type": "code",
   "execution_count": 79,
   "metadata": {
    "colab": {
     "base_uri": "https://localhost:8080/",
     "height": 34
    },
    "id": "1YH_Ec1CHdl8",
    "outputId": "28a498d6-5929-42a1-f5ef-f1aa25d838b4"
   },
   "outputs": [
    {
     "data": {
      "text/plain": [
       "array([0., 0., 0.])"
      ]
     },
     "execution_count": 79,
     "metadata": {},
     "output_type": "execute_result"
    }
   ],
   "source": [
    "X_scaled.mean(axis=0)"
   ]
  },
  {
   "cell_type": "code",
   "execution_count": 80,
   "metadata": {
    "colab": {
     "base_uri": "https://localhost:8080/",
     "height": 34
    },
    "id": "nI9-SKoDHdl-",
    "outputId": "dc3a054e-df2c-4d54-e13f-17f570e95dbc"
   },
   "outputs": [
    {
     "data": {
      "text/plain": [
       "array([1., 1., 1.])"
      ]
     },
     "execution_count": 80,
     "metadata": {},
     "output_type": "execute_result"
    }
   ],
   "source": [
    "X_scaled.std(axis=0)"
   ]
  },
  {
   "cell_type": "markdown",
   "metadata": {
    "id": "1t-Y5zL-HdmB"
   },
   "source": [
    "Keeping in mind that if you have scaled your training data, you must do likewise with your test data as well. However, your assumption is that the mean and variance must be invariant between your train and test data. `scikit-learn` assists with a built-in utility function `StandardScaler`."
   ]
  },
  {
   "cell_type": "code",
   "execution_count": 81,
   "metadata": {
    "colab": {
     "base_uri": "https://localhost:8080/",
     "height": 34
    },
    "id": "ZKkyM4bQHdmD",
    "outputId": "c3896d81-42b0-4e07-87cb-2416c930e2df"
   },
   "outputs": [
    {
     "data": {
      "text/html": [
       "<style>#sk-container-id-1 {color: black;background-color: white;}#sk-container-id-1 pre{padding: 0;}#sk-container-id-1 div.sk-toggleable {background-color: white;}#sk-container-id-1 label.sk-toggleable__label {cursor: pointer;display: block;width: 100%;margin-bottom: 0;padding: 0.3em;box-sizing: border-box;text-align: center;}#sk-container-id-1 label.sk-toggleable__label-arrow:before {content: \"▸\";float: left;margin-right: 0.25em;color: #696969;}#sk-container-id-1 label.sk-toggleable__label-arrow:hover:before {color: black;}#sk-container-id-1 div.sk-estimator:hover label.sk-toggleable__label-arrow:before {color: black;}#sk-container-id-1 div.sk-toggleable__content {max-height: 0;max-width: 0;overflow: hidden;text-align: left;background-color: #f0f8ff;}#sk-container-id-1 div.sk-toggleable__content pre {margin: 0.2em;color: black;border-radius: 0.25em;background-color: #f0f8ff;}#sk-container-id-1 input.sk-toggleable__control:checked~div.sk-toggleable__content {max-height: 200px;max-width: 100%;overflow: auto;}#sk-container-id-1 input.sk-toggleable__control:checked~label.sk-toggleable__label-arrow:before {content: \"▾\";}#sk-container-id-1 div.sk-estimator input.sk-toggleable__control:checked~label.sk-toggleable__label {background-color: #d4ebff;}#sk-container-id-1 div.sk-label input.sk-toggleable__control:checked~label.sk-toggleable__label {background-color: #d4ebff;}#sk-container-id-1 input.sk-hidden--visually {border: 0;clip: rect(1px 1px 1px 1px);clip: rect(1px, 1px, 1px, 1px);height: 1px;margin: -1px;overflow: hidden;padding: 0;position: absolute;width: 1px;}#sk-container-id-1 div.sk-estimator {font-family: monospace;background-color: #f0f8ff;border: 1px dotted black;border-radius: 0.25em;box-sizing: border-box;margin-bottom: 0.5em;}#sk-container-id-1 div.sk-estimator:hover {background-color: #d4ebff;}#sk-container-id-1 div.sk-parallel-item::after {content: \"\";width: 100%;border-bottom: 1px solid gray;flex-grow: 1;}#sk-container-id-1 div.sk-label:hover label.sk-toggleable__label {background-color: #d4ebff;}#sk-container-id-1 div.sk-serial::before {content: \"\";position: absolute;border-left: 1px solid gray;box-sizing: border-box;top: 0;bottom: 0;left: 50%;z-index: 0;}#sk-container-id-1 div.sk-serial {display: flex;flex-direction: column;align-items: center;background-color: white;padding-right: 0.2em;padding-left: 0.2em;position: relative;}#sk-container-id-1 div.sk-item {position: relative;z-index: 1;}#sk-container-id-1 div.sk-parallel {display: flex;align-items: stretch;justify-content: center;background-color: white;position: relative;}#sk-container-id-1 div.sk-item::before, #sk-container-id-1 div.sk-parallel-item::before {content: \"\";position: absolute;border-left: 1px solid gray;box-sizing: border-box;top: 0;bottom: 0;left: 50%;z-index: -1;}#sk-container-id-1 div.sk-parallel-item {display: flex;flex-direction: column;z-index: 1;position: relative;background-color: white;}#sk-container-id-1 div.sk-parallel-item:first-child::after {align-self: flex-end;width: 50%;}#sk-container-id-1 div.sk-parallel-item:last-child::after {align-self: flex-start;width: 50%;}#sk-container-id-1 div.sk-parallel-item:only-child::after {width: 0;}#sk-container-id-1 div.sk-dashed-wrapped {border: 1px dashed gray;margin: 0 0.4em 0.5em 0.4em;box-sizing: border-box;padding-bottom: 0.4em;background-color: white;}#sk-container-id-1 div.sk-label label {font-family: monospace;font-weight: bold;display: inline-block;line-height: 1.2em;}#sk-container-id-1 div.sk-label-container {text-align: center;}#sk-container-id-1 div.sk-container {/* jupyter's `normalize.less` sets `[hidden] { display: none; }` but bootstrap.min.css set `[hidden] { display: none !important; }` so we also need the `!important` here to be able to override the default hidden behavior on the sphinx rendered scikit-learn.org. See: https://github.com/scikit-learn/scikit-learn/issues/21755 */display: inline-block !important;position: relative;}#sk-container-id-1 div.sk-text-repr-fallback {display: none;}</style><div id=\"sk-container-id-1\" class=\"sk-top-container\"><div class=\"sk-text-repr-fallback\"><pre>StandardScaler()</pre><b>In a Jupyter environment, please rerun this cell to show the HTML representation or trust the notebook. <br />On GitHub, the HTML representation is unable to render, please try loading this page with nbviewer.org.</b></div><div class=\"sk-container\" hidden><div class=\"sk-item\"><div class=\"sk-estimator sk-toggleable\"><input class=\"sk-toggleable__control sk-hidden--visually\" id=\"sk-estimator-id-1\" type=\"checkbox\" checked><label for=\"sk-estimator-id-1\" class=\"sk-toggleable__label sk-toggleable__label-arrow\">StandardScaler</label><div class=\"sk-toggleable__content\"><pre>StandardScaler()</pre></div></div></div></div></div>"
      ],
      "text/plain": [
       "StandardScaler()"
      ]
     },
     "execution_count": 81,
     "metadata": {},
     "output_type": "execute_result"
    }
   ],
   "source": [
    "scaler = preprocessing.StandardScaler().fit(X_train)\n",
    "scaler"
   ]
  },
  {
   "cell_type": "code",
   "execution_count": 82,
   "metadata": {
    "colab": {
     "base_uri": "https://localhost:8080/",
     "height": 34
    },
    "id": "tAKudvkmHdmG",
    "outputId": "2d8505c9-24c9-4589-f605-7695fbb6402b"
   },
   "outputs": [
    {
     "data": {
      "text/plain": [
       "array([1.        , 0.        , 0.33333333])"
      ]
     },
     "execution_count": 82,
     "metadata": {},
     "output_type": "execute_result"
    }
   ],
   "source": [
    "scaler.mean_"
   ]
  },
  {
   "cell_type": "code",
   "execution_count": 83,
   "metadata": {
    "colab": {
     "base_uri": "https://localhost:8080/",
     "height": 34
    },
    "id": "74f8Cv-vHdmI",
    "outputId": "5b09ee94-68e9-48eb-a9b2-b49e4c091f7e"
   },
   "outputs": [
    {
     "data": {
      "text/plain": [
       "array([0.81649658, 0.81649658, 1.24721913])"
      ]
     },
     "execution_count": 83,
     "metadata": {},
     "output_type": "execute_result"
    }
   ],
   "source": [
    "scaler.scale_"
   ]
  },
  {
   "cell_type": "code",
   "execution_count": 84,
   "metadata": {
    "colab": {
     "base_uri": "https://localhost:8080/",
     "height": 68
    },
    "id": "kbp3bGOQHdmN",
    "outputId": "2bcf8e1b-ac6b-41cf-bb9d-b3af9f555255"
   },
   "outputs": [
    {
     "data": {
      "text/plain": [
       "array([[ 0.        , -1.22474487,  1.33630621],\n",
       "       [ 1.22474487,  0.        , -0.26726124],\n",
       "       [-1.22474487,  1.22474487, -1.06904497]])"
      ]
     },
     "execution_count": 84,
     "metadata": {},
     "output_type": "execute_result"
    }
   ],
   "source": [
    "scaler.transform(X_train)"
   ]
  },
  {
   "cell_type": "code",
   "execution_count": 85,
   "metadata": {
    "colab": {
     "base_uri": "https://localhost:8080/",
     "height": 378
    },
    "id": "rXLHIB0_HdmP",
    "outputId": "a3f33150-3c95-464d-afa0-f6528203c994"
   },
   "outputs": [
    {
     "data": {
      "image/png": "[encoded data removed]",
      "text/plain": [
       "<Figure size 576x432 with 1 Axes>"
      ]
     },
     "metadata": {
      "needs_background": "light"
     },
     "output_type": "display_data"
    }
   ],
   "source": [
    "plt.figure(figsize=(8,6))\n",
    "plt.hist(X_train);"
   ]
  },
  {
   "cell_type": "markdown",
   "metadata": {
    "id": "du3huFR4HdmW"
   },
   "source": [
    "You can now utilise the `transform` for new dataset"
   ]
  },
  {
   "cell_type": "code",
   "execution_count": 86,
   "metadata": {
    "id": "C1BDDwY6HdmW"
   },
   "outputs": [],
   "source": [
    "X_test = [[-1., 1., 0.]]"
   ]
  },
  {
   "cell_type": "code",
   "execution_count": 87,
   "metadata": {
    "colab": {
     "base_uri": "https://localhost:8080/",
     "height": 34
    },
    "id": "iTtZu9D0HdmY",
    "outputId": "3b261abe-d0bb-401a-aa5a-9c08f36620f3"
   },
   "outputs": [
    {
     "data": {
      "text/plain": [
       "array([[-2.44948974,  1.22474487, -0.26726124]])"
      ]
     },
     "execution_count": 87,
     "metadata": {},
     "output_type": "execute_result"
    }
   ],
   "source": [
    "scaler.transform(X_test)"
   ]
  },
  {
   "cell_type": "markdown",
   "metadata": {
    "id": "1CZZ9cO_Hdma"
   },
   "source": [
    "***"
   ]
  },
  {
   "cell_type": "markdown",
   "metadata": {
    "id": "W3TTj72yHdmb"
   },
   "source": [
    "# Min-Max or Scaling Features to a Range\n",
    "\n",
    "Scaling features to lie between a given minimum and maximum value, often between zero and one, or so that the maximum absolute value of each feature is scaled to unit size.\n",
    "\n",
    "The motivation to use this scaling include robustness to very small standard deviations of features and preserving zero entries in sparse data."
   ]
  },
  {
   "cell_type": "markdown",
   "metadata": {
    "id": "CrYse5JZHdmb"
   },
   "source": [
    "## MinMaxScaler\n",
    "\n",
    "Scale a data to the `[0, 1]` range:"
   ]
  },
  {
   "cell_type": "code",
   "execution_count": 88,
   "metadata": {
    "id": "9w0nChoEHdmc"
   },
   "outputs": [],
   "source": [
    "X_train = np.array([[ 1., -1.,  2.],\n",
    "                    [ 2.,  0.,  0.],\n",
    "                    [ 0.,  1., -1.]])"
   ]
  },
  {
   "cell_type": "code",
   "execution_count": 89,
   "metadata": {
    "id": "cBX6-M04Hdmd"
   },
   "outputs": [],
   "source": [
    "min_max_scaler = preprocessing.MinMaxScaler()"
   ]
  },
  {
   "cell_type": "code",
   "execution_count": 90,
   "metadata": {
    "id": "AYzPs8mqHdmh"
   },
   "outputs": [],
   "source": [
    "X_train_minmax = min_max_scaler.fit_transform(X_train)"
   ]
  },
  {
   "cell_type": "code",
   "execution_count": null,
   "metadata": {
    "colab": {
     "base_uri": "https://localhost:8080/",
     "height": 68
    },
    "id": "z6YKO1UJHdmk",
    "outputId": "51188a42-f4ab-489a-de98-e63c7057f5d9"
   },
   "outputs": [],
   "source": [
    "X_train_minmax"
   ]
  },
  {
   "cell_type": "markdown",
   "metadata": {
    "id": "4dV81FjXHdmn"
   },
   "source": [
    "Now to unseen data"
   ]
  },
  {
   "cell_type": "code",
   "execution_count": null,
   "metadata": {
    "id": "3_1aIOlzHdmq"
   },
   "outputs": [],
   "source": [
    "X_test = np.array([[-3., -1.,  0.], [2., 1.5, 4.]])"
   ]
  },
  {
   "cell_type": "code",
   "execution_count": null,
   "metadata": {
    "id": "pixhD8wJHdms"
   },
   "outputs": [],
   "source": [
    "X_test_minmax = min_max_scaler.transform(X_test)"
   ]
  },
  {
   "cell_type": "code",
   "execution_count": null,
   "metadata": {
    "colab": {
     "base_uri": "https://localhost:8080/",
     "height": 51
    },
    "id": "SawgeZJyHdmu",
    "outputId": "a84fff6e-5496-4bb2-f4e5-4779e84a98ea"
   },
   "outputs": [],
   "source": [
    "X_test_minmax"
   ]
  },
  {
   "cell_type": "markdown",
   "metadata": {
    "id": "Qr01LEDfHdmw"
   },
   "source": [
    "doc:\n",
    "\n",
    "Init signature: preprocessing.MinMaxScaler(feature_range=(0, 1), copy=True)\n",
    "\n",
    "Transforms features by scaling each feature to a given range.\n",
    "\n",
    "This estimator scales and translates each feature individually such\n",
    "that it is in the given range on the training set, i.e. between\n",
    "zero and one.\n",
    "\n",
    "The transformation is given by::\n",
    "\n",
    "    X_std = (X - X.min(axis=0)) / (X.max(axis=0) - X.min(axis=0))\n",
    "    X_scaled = X_std * (max - min) + min\n",
    "    \n",
    "$$X_{std}=\\frac{X-X_{min}}{X_{max}-X_{min}}$$\n",
    "\n",
    "$$X'=X_{std} (\\text{max} - \\text{min}) + \\text{min}$$"
   ]
  },
  {
   "cell_type": "code",
   "execution_count": null,
   "metadata": {
    "id": "pXrehiuGHdmw"
   },
   "outputs": [],
   "source": [
    "preprocessing.MinMaxScaler?"
   ]
  },
  {
   "cell_type": "markdown",
   "metadata": {
    "id": "pRR7JUdIHdmz"
   },
   "source": [
    "## MaxAbsScaler\n",
    "\n",
    "Works in a very similar fashion, but scales in a way that the training data lies within the range `[-1, 1]` by dividing through the largest maximum value in each feature. It is meant for data that is already centered at zero or sparse data."
   ]
  },
  {
   "cell_type": "code",
   "execution_count": null,
   "metadata": {
    "id": "YzTDHmr3Hdm2"
   },
   "outputs": [],
   "source": [
    "X_train = np.array([[ 1., -1.,  2.],\n",
    "                    [ 2.,  0.,  0.],\n",
    "                    [ 0.,  1., -1.]])"
   ]
  },
  {
   "cell_type": "code",
   "execution_count": null,
   "metadata": {
    "colab": {
     "base_uri": "https://localhost:8080/",
     "height": 68
    },
    "id": "f0AsR7VaHdm4",
    "outputId": "e960edbb-4d68-4398-8132-6d6e22f32088"
   },
   "outputs": [],
   "source": [
    "max_abs_scaler = preprocessing.MaxAbsScaler()\n",
    "X_train_maxabs = max_abs_scaler.fit_transform(X_train)\n",
    "X_train_maxabs"
   ]
  },
  {
   "cell_type": "code",
   "execution_count": null,
   "metadata": {
    "colab": {
     "base_uri": "https://localhost:8080/",
     "height": 51
    },
    "id": "FYs_7V-ZHdm6",
    "outputId": "a657d09b-211f-4318-aeee-79422d33bf43"
   },
   "outputs": [],
   "source": [
    "X_test = np.array([[ -1., -0.5,  2.], [0., 0.5, -0.6]])\n",
    "X_test_maxabs = max_abs_scaler.transform(X_test)\n",
    "X_test_maxabs"
   ]
  },
  {
   "cell_type": "markdown",
   "metadata": {
    "id": "hNZX9yuCHdm7"
   },
   "source": [
    "## Scaling sparse data"
   ]
  },
  {
   "cell_type": "markdown",
   "metadata": {
    "id": "ZXlUP-E3Hdm8"
   },
   "source": [
    "Centering sparse data would destroy the sparseness structure in the data, and thus rarely is a sensible thing to do.\n",
    "\n",
    "However, it can make sense to scale sparse inputs, especially if features are on different scales.\n",
    "\n",
    "`MaxAbsScaler` and `maxabs_scale` were specifically designed for scaling sparse data"
   ]
  },
  {
   "cell_type": "markdown",
   "metadata": {
    "id": "OFjtY8QkHdm9"
   },
   "source": [
    "[Compare the effect of different scalers on data with outliers](http://scikit-learn.org/stable/auto_examples/preprocessing/plot_all_scaling.html#sphx-glr-auto-examples-preprocessing-plot-all-scaling-py)"
   ]
  },
  {
   "cell_type": "markdown",
   "metadata": {
    "id": "ILRiChMtHdm9"
   },
   "source": [
    "## Scaling vs Whitening\n",
    "\n",
    "It is sometimes not enough to center and scale the features independently, since a downstream model can further make some assumption on the linear independence of the features.\n",
    "\n",
    "To address this issue you can use `sklearn.decomposition.PCA` or `sklearn.decomposition.RandomizedPCA` with `whiten=True` to further remove the linear correlation across features."
   ]
  },
  {
   "cell_type": "markdown",
   "metadata": {
    "id": "fsc5ofFAHdm-"
   },
   "source": [
    "***"
   ]
  },
  {
   "cell_type": "markdown",
   "metadata": {
    "id": "L5xUx3j9Hdm-"
   },
   "source": [
    "# Normalization"
   ]
  },
  {
   "cell_type": "markdown",
   "metadata": {
    "id": "m6W7O-emHdm_"
   },
   "source": [
    "Normalization is the process of scaling individual samples to have unit norm.\n",
    "\n",
    "This process can be useful if you plan to use a quadratic form such as the dot-product or any other kernel to quantify the similarity of any pair of samples.\n",
    "\n",
    "$$X'=\\frac{X-X_{mean}}{X_{max}-X_{min}}$$\n",
    "\n",
    "This assumption is the base of the Vector Space Model often used in text classification and clustering contexts.\n",
    "\n",
    "There are two types of Normalization\n",
    "\n",
    "  1. **L1 normalization**, Least Absolute Deviations\n",
    "Ensure the sum of absolute values is 1 in each row.\n",
    "\n",
    "  2. **L2 normalization**, Least squares,\n",
    "Ensure that the sum of squares is 1."
   ]
  },
  {
   "cell_type": "code",
   "execution_count": null,
   "metadata": {
    "colab": {
     "base_uri": "https://localhost:8080/",
     "height": 68
    },
    "id": "T1uBZ63JHdnA",
    "outputId": "513f4e0d-2f1c-4115-8af5-d3615c42a240"
   },
   "outputs": [],
   "source": [
    "X = [[ 1., -1.,  2.],\n",
    "     [ 2.,  0.,  0.],\n",
    "     [ 0.,  1., -1.]]\n",
    "X_normalized = preprocessing.normalize(X, norm='l2')\n",
    "\n",
    "X_normalized"
   ]
  },
  {
   "cell_type": "markdown",
   "metadata": {
    "id": "KJxBUkXxHdnC"
   },
   "source": [
    "Alternatively\n",
    "\n",
    "The `preprocessing` module further provides a utility class `Normalizer` that implements the same operation using the `Transformer` API."
   ]
  },
  {
   "cell_type": "code",
   "execution_count": null,
   "metadata": {
    "colab": {
     "base_uri": "https://localhost:8080/",
     "height": 34
    },
    "id": "EVs09Ub-HdnD",
    "outputId": "d5736071-284c-45de-c45a-a2cf35668e97"
   },
   "outputs": [],
   "source": [
    "normalizer = preprocessing.Normalizer().fit(X)  # fit does nothing\n",
    "normalizer"
   ]
  },
  {
   "cell_type": "code",
   "execution_count": null,
   "metadata": {
    "colab": {
     "base_uri": "https://localhost:8080/",
     "height": 68
    },
    "id": "sm-Y5E_1HdnF",
    "outputId": "a3fea77f-b3da-4440-c818-4781894cc116"
   },
   "outputs": [],
   "source": [
    "normalizer.transform(X)"
   ]
  },
  {
   "cell_type": "code",
   "execution_count": null,
   "metadata": {
    "colab": {
     "base_uri": "https://localhost:8080/",
     "height": 34
    },
    "id": "8KUUeApGHdnH",
    "outputId": "469005d0-0c76-4f00-fd33-0654454e49c3"
   },
   "outputs": [],
   "source": [
    "normalizer.transform([[-1.,  1., 0.]])"
   ]
  },
  {
   "cell_type": "markdown",
   "metadata": {
    "id": "eItKwFj8HdnI"
   },
   "source": [
    "# Binarization\n",
    "\n",
    "$$f(x)={0,1}$$\n",
    "\n",
    "Feature binarization is the process of thresholding numerical features to get boolean values. This can be useful for downstream probabilistic estimators that make assumption that the input data is distributed according to a multi-variate Bernoulli distribution\n",
    "\n",
    "\n",
    "It is also common among the text processing community to use binary feature values (probably to simplify the probabilistic reasoning) even if normalized counts (a.k.a. term frequencies) or TF-IDF valued features often perform slightly better in practice."
   ]
  },
  {
   "cell_type": "code",
   "execution_count": null,
   "metadata": {
    "colab": {
     "base_uri": "https://localhost:8080/",
     "height": 34
    },
    "id": "aQ0dgjLLHdnJ",
    "outputId": "d9cc1d41-3154-48cd-cba2-a0aef68b0c4f"
   },
   "outputs": [],
   "source": [
    "X = [[ 1., -1.,  2.],\n",
    "     [ 2.,  0.,  0.],\n",
    "     [ 0.,  1., -1.]]\n",
    "\n",
    "binarizer = preprocessing.Binarizer().fit(X)  # fit does nothing\n",
    "binarizer"
   ]
  },
  {
   "cell_type": "code",
   "execution_count": null,
   "metadata": {
    "colab": {
     "base_uri": "https://localhost:8080/",
     "height": 68
    },
    "id": "z7Pjd1aCHdnK",
    "outputId": "9081ab72-a949-4539-fa24-6e4405e57b0e"
   },
   "outputs": [],
   "source": [
    "binarizer.transform(X)"
   ]
  },
  {
   "cell_type": "markdown",
   "metadata": {
    "id": "58HxeThnHdnN"
   },
   "source": [
    "Modifying the threshold"
   ]
  },
  {
   "cell_type": "code",
   "execution_count": null,
   "metadata": {
    "id": "BaNyfY-oHdnP"
   },
   "outputs": [],
   "source": [
    "binarizer = preprocessing.Binarizer(threshold=-0.5)"
   ]
  },
  {
   "cell_type": "code",
   "execution_count": null,
   "metadata": {
    "colab": {
     "base_uri": "https://localhost:8080/",
     "height": 68
    },
    "id": "zPzBVBH6HdnT",
    "outputId": "4a7761c0-ae83-442d-c260-9d7a966fa50e"
   },
   "outputs": [],
   "source": [
    "binarizer.transform(X)"
   ]
  },
  {
   "cell_type": "markdown",
   "metadata": {
    "id": "gIIGnBs7HdnW"
   },
   "source": [
    "***"
   ]
  },
  {
   "cell_type": "markdown",
   "metadata": {
    "id": "ZHLNQ-4yHdnX"
   },
   "source": [
    "# Encoding categorical features"
   ]
  },
  {
   "cell_type": "markdown",
   "metadata": {
    "id": "qEArPYaBHdnX"
   },
   "source": [
    "[LabelEncoder](http://scikit-learn.org/stable/modules/generated/sklearn.preprocessing.LabelEncoder.html)"
   ]
  },
  {
   "cell_type": "code",
   "execution_count": null,
   "metadata": {
    "id": "2InvcsSvHdnY"
   },
   "outputs": [],
   "source": [
    "source = ['australia', 'singapore', 'new zealand', 'hong kong']"
   ]
  },
  {
   "cell_type": "code",
   "execution_count": null,
   "metadata": {
    "id": "b7pjagAQHdna"
   },
   "outputs": [],
   "source": [
    "label_enc = preprocessing.LabelEncoder()\n",
    "src = label_enc.fit_transform(source)"
   ]
  },
  {
   "cell_type": "code",
   "execution_count": null,
   "metadata": {
    "colab": {
     "base_uri": "https://localhost:8080/",
     "height": 119
    },
    "id": "sWCnQUarHdnb",
    "outputId": "d3ee0e1a-4d3a-46b7-aa49-9ac4a9e2d63d"
   },
   "outputs": [],
   "source": [
    "print(\"country to code mapping:\\n\")\n",
    "for k, v in enumerate(label_enc.classes_):\n",
    "    print(v,'\\t', k)"
   ]
  },
  {
   "cell_type": "code",
   "execution_count": null,
   "metadata": {
    "id": "_X7FleE7Hdne"
   },
   "outputs": [],
   "source": [
    "test_data = ['hong kong', 'singapore', 'australia', 'new zealand']"
   ]
  },
  {
   "cell_type": "code",
   "execution_count": null,
   "metadata": {
    "id": "6JZZLqoFHdnf"
   },
   "outputs": [],
   "source": [
    "result = label_enc.transform(test_data)"
   ]
  },
  {
   "cell_type": "code",
   "execution_count": null,
   "metadata": {
    "colab": {
     "base_uri": "https://localhost:8080/",
     "height": 34
    },
    "id": "i73wsNzgHdnh",
    "outputId": "2d83320a-2194-4369-e014-33cc57e09db1"
   },
   "outputs": [],
   "source": [
    "print(result)"
   ]
  },
  {
   "cell_type": "markdown",
   "metadata": {
    "id": "y-Db3HZ2Hdnk"
   },
   "source": [
    "## One Hot / One-of-K Encoding\n",
    "\n",
    "* Useful for dealing with sparse matrix\n",
    "* uses [one-of-k scheme](http://code-factor.blogspot.sg/2012/10/one-hotone-of-k-data-encoder-for.html)\n",
    "\n",
    "\n",
    "The process of turning a series of categorical responses into a set of binary result (0 or 1)"
   ]
  },
  {
   "cell_type": "markdown",
   "metadata": {
    "id": "tPyUUqE0Hdnl"
   },
   "source": [
    "[One Hot Encoder](http://scikit-learn.org/stable/modules/generated/sklearn.preprocessing.OneHotEncoder.html#sklearn.preprocessing.OneHotEncoder)"
   ]
  },
  {
   "cell_type": "code",
   "execution_count": null,
   "metadata": {
    "colab": {
     "base_uri": "https://localhost:8080/",
     "height": 34
    },
    "id": "D2PLIdL4Hdnl",
    "outputId": "538a8c67-824e-4643-ca4a-7990ccc6590c"
   },
   "outputs": [],
   "source": [
    "source"
   ]
  },
  {
   "cell_type": "code",
   "execution_count": null,
   "metadata": {
    "colab": {
     "base_uri": "https://localhost:8080/",
     "height": 34
    },
    "id": "PeYFKtkzHdnm",
    "outputId": "e89bce1e-355f-4a2c-e6f6-800d73d18698"
   },
   "outputs": [],
   "source": [
    "src"
   ]
  },
  {
   "cell_type": "code",
   "execution_count": null,
   "metadata": {
    "id": "S5lLMclwHdno"
   },
   "outputs": [],
   "source": [
    "from sklearn.preprocessing import OneHotEncoder"
   ]
  },
  {
   "cell_type": "code",
   "execution_count": null,
   "metadata": {
    "colab": {
     "base_uri": "https://localhost:8080/",
     "height": 85
    },
    "id": "wbgr9qFeHdns",
    "outputId": "eb4efa05-4ea9-4e38-d2dd-f8327aecb2b3"
   },
   "outputs": [],
   "source": [
    "one_hot_enc = OneHotEncoder(sparse=False, categories='auto')\n",
    "src = src.reshape(len(src), 1)\n",
    "one_hot = one_hot_enc.fit_transform(src)\n",
    "print(one_hot)"
   ]
  },
  {
   "cell_type": "code",
   "execution_count": null,
   "metadata": {
    "colab": {
     "base_uri": "https://localhost:8080/",
     "height": 34
    },
    "id": "M48fT3NLHdnt",
    "outputId": "995fe02b-217d-4e4d-de13-e4d533835455"
   },
   "outputs": [],
   "source": [
    "invert_res = label_enc.inverse_transform([np.argmax(one_hot[0, :])])\n",
    "print(invert_res)"
   ]
  },
  {
   "cell_type": "code",
   "execution_count": null,
   "metadata": {
    "colab": {
     "base_uri": "https://localhost:8080/",
     "height": 34
    },
    "id": "lOeu7aPgHdnv",
    "outputId": "494084ff-ce67-4b5e-8bea-5331ec4045ed"
   },
   "outputs": [],
   "source": [
    "invert_res = label_enc.inverse_transform([np.argmax(one_hot[3, :])])\n",
    "print(invert_res)"
   ]
  },
  {
   "cell_type": "markdown",
   "metadata": {
    "id": "JkJr84a6Hdny"
   },
   "source": [
    "# References\n",
    "\n",
    "* [Section - Should I normalize/standardize/rescale the data?](http://www.faqs.org/faqs/ai-faq/neural-nets/part2/section-16.html)\n",
    "* [Colleen Farrelly - Machine Learning by Analogy](https://www.slideshare.net/ColleenFarrelly/machine-learning-by-analogy-59094152)\n",
    "* [Lior Rokach - Introduction to Machine Learning](https://www.slideshare.net/liorrokach/introduction-to-machine-learning-13809045)\n",
    "* [Ritchie Ng](http://www.ritchieng.com/machinelearning-one-hot-encoding/)"
   ]
  },
  {
   "cell_type": "markdown",
   "metadata": {
    "id": "VFITQJg4Hdnz"
   },
   "source": [
    "***"
   ]
  }
 ],
 "metadata": {
  "accelerator": "GPU",
  "colab": {
   "provenance": []
  },
  "kernelspec": {
   "display_name": "Python 3",
   "language": "python",
   "name": "python3"
  },
  "language_info": {
   "codemirror_mode": {
    "name": "ipython",
    "version": 3
   },
   "file_extension": ".py",
   "mimetype": "text/x-python",
   "name": "python",
   "nbconvert_exporter": "python",
   "pygments_lexer": "ipython3",
   "version": "3.8.8"
  }
 },
 "nbformat": 4,
 "nbformat_minor": 1
}
