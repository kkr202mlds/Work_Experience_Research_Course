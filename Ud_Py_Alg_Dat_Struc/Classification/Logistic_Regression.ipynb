{
  "nbformat": 4,
  "nbformat_minor": 0,
  "metadata": {
    "kernelspec": {
      "display_name": "Python 3",
      "language": "python",
      "name": "python3"
    },
    "language_info": {
      "codemirror_mode": {
        "name": "ipython",
        "version": 3
      },
      "file_extension": ".py",
      "mimetype": "text/x-python",
      "name": "python",
      "nbconvert_exporter": "python",
      "pygments_lexer": "ipython3",
      "version": "3.7.4"
    },
    "colab": {
      "provenance": []
    }
  },
  "cells": [
    {
      "cell_type": "markdown",
      "metadata": {
        "id": "TaqTaCfJYsvc"
      },
      "source": [
        "# Logistic Regression"
      ]
    },
    {
      "cell_type": "markdown",
      "metadata": {
        "id": "9c_DsHBYYsve"
      },
      "source": [
        "## Resources:\n",
        "\n",
        "[Logistic Regression Tutorial for Machine Learning](http://machinelearningmastery.com/logistic-regression-tutorial-for-machine-learning/)\n",
        "\n",
        "[Logistic Regression for Machine Learning](http://machinelearningmastery.com/logistic-regression-for-machine-learning/)\n",
        "\n",
        "[How To Implement Logistic Regression With Stochastic Gradient Descent From Scratch With Python](http://machinelearningmastery.com/implement-logistic-regression-stochastic-gradient-descent-scratch-python/)"
      ]
    },
    {
      "cell_type": "markdown",
      "metadata": {
        "id": "hLaIcam0Ysvf"
      },
      "source": [
        "Logistic regression is the go-to linear classification algorithm for two-class problems. It is easy to implement, easy to understand and gets great results on a wide variety of problems, even when the expectations the method has for your data are violated.\n"
      ]
    },
    {
      "cell_type": "markdown",
      "metadata": {
        "id": "y5b3-rhtYsvg"
      },
      "source": [
        "### Description\n",
        "\n",
        "#### Logistic Regression\n",
        "\n",
        "Logistic regression is named for the function used at the core of the method, the [logistic function](https://en.wikipedia.org/wiki/Logistic_function).\n",
        "\n",
        "The logistic function, also called the **Sigmoid function** was developed by statisticians to describe properties of population growth in ecology, rising quickly and maxing out at the carrying capacity of the environment. It’s an S-shaped curve that can take any real-valued number and map it into a value between 0 and 1, but never exactly at those limits."
      ]
    },
    {
      "cell_type": "markdown",
      "metadata": {
        "id": "JD9fIXUrYsvg"
      },
      "source": [
        "$$\\frac{1}{1 + e^{-x}}$$\n",
        "\n",
        "$e$ is the base of the natural logarithms and $x$ is value that you want to transform via the logistic function."
      ]
    },
    {
      "cell_type": "code",
      "metadata": {
        "id": "GVk9U3HyYsvj",
        "outputId": "3474ebf3-f2d7-4064-b63b-1627a26840c9",
        "colab": {
          "base_uri": "https://localhost:8080/",
          "height": 102
        }
      },
      "source": [
        "import numpy as np\n",
        "import pandas as pd\n",
        "import matplotlib.pyplot as plt\n",
        "import seaborn\n",
        "%matplotlib inline\n",
        "\n",
        "print(np.__version__)\n",
        "print(pd.__version__)\n",
        "import sys\n",
        "print(sys.version)\n",
        "import sklearn\n",
        "print(sklearn.__version__)"
      ],
      "execution_count": null,
      "outputs": [
        {
          "output_type": "stream",
          "text": [
            "1.16.5\n",
            "0.24.2\n",
            "3.6.8 (default, Jan 14 2019, 11:02:34) \n",
            "[GCC 8.0.1 20180414 (experimental) [trunk revision 259383]]\n",
            "0.21.3\n"
          ],
          "name": "stdout"
        }
      ]
    },
    {
      "cell_type": "code",
      "metadata": {
        "id": "50vAKHSDYsvl",
        "outputId": "f344473e-265a-4217-c16b-094b7a2d5e07",
        "colab": {
          "base_uri": "https://localhost:8080/",
          "height": 499
        }
      },
      "source": [
        "x = np.linspace(-6, 6, num = 1000)\n",
        "plt.figure(figsize = (12,8))\n",
        "plt.plot(x, 1 / (1 + np.exp(-x))); # Sigmoid Function\n",
        "plt.title(\"Sigmoid Function\");"
      ],
      "execution_count": null,
      "outputs": [
        {
          "output_type": "display_data",
          "data": {
            "image/png": "[encoded data removed]",
            "text/plain": [
              "<Figure size 864x576 with 1 Axes>"
            ]
          },
          "metadata": {
            "tags": []
          }
        }
      ]
    },
    {
      "cell_type": "markdown",
      "metadata": {
        "id": "m5Dph9uMYsvp"
      },
      "source": [
        "***"
      ]
    },
    {
      "cell_type": "markdown",
      "metadata": {
        "id": "--qHWAzNYsvq"
      },
      "source": [
        "The logistic regression equation has a very simiar representation like linear regression. The difference is that the output value being modelled is binary in nature.\n",
        "\n",
        "$$\\hat{y}=\\frac{e^{\\beta_0+\\beta_1x_1}}{1+\\beta_0+\\beta_1x_1}$$\n",
        "\n",
        "or\n",
        "\n",
        "$$\\hat{y}=\\frac{1.0}{1.0+e^{-\\beta_0-\\beta_1x_1}}$$\n",
        "\n",
        "$\\beta_0$ is the intecept term\n",
        "\n",
        "$\\beta_1$ is the coefficient for $x_1$\n",
        "\n",
        "$\\hat{y}$ is the predicted output with real value between 0 and 1. To convert this to binary output of 0 or 1, this would either need to be rounded to an integer value or a cutoff point be provided to specify the class segregation point."
      ]
    },
    {
      "cell_type": "code",
      "metadata": {
        "jupyter": {
          "outputs_hidden": true
        },
        "id": "6-w8r6WbYsvr"
      },
      "source": [
        "tmp = [0, 0.4, 0.6, 0.8, 1.0]"
      ],
      "execution_count": null,
      "outputs": []
    },
    {
      "cell_type": "code",
      "metadata": {
        "id": "zvj-KAcAYsvt",
        "outputId": "4f4f3cf5-4ec6-46f3-cc32-3c571dc2ae8b",
        "colab": {
          "base_uri": "https://localhost:8080/",
          "height": 34
        }
      },
      "source": [
        "tmp"
      ],
      "execution_count": null,
      "outputs": [
        {
          "output_type": "execute_result",
          "data": {
            "text/plain": [
              "[0, 0.4, 0.6, 0.8, 1.0]"
            ]
          },
          "metadata": {
            "tags": []
          },
          "execution_count": 28
        }
      ]
    },
    {
      "cell_type": "code",
      "metadata": {
        "id": "mhKKwI7pYsvv",
        "outputId": "575b93de-199b-41c1-8187-d010659d3adb",
        "colab": {
          "base_uri": "https://localhost:8080/",
          "height": 34
        }
      },
      "source": [
        "np.round(tmp)"
      ],
      "execution_count": null,
      "outputs": [
        {
          "output_type": "execute_result",
          "data": {
            "text/plain": [
              "array([0., 0., 1., 1., 1.])"
            ]
          },
          "metadata": {
            "tags": []
          },
          "execution_count": 29
        }
      ]
    },
    {
      "cell_type": "code",
      "metadata": {
        "id": "EwiGiqV4Ysvx",
        "outputId": "4be75314-7d30-48cd-a243-8d6add1c3b2b",
        "colab": {
          "base_uri": "https://localhost:8080/",
          "height": 34
        }
      },
      "source": [
        "np.array(tmp) > 0.7"
      ],
      "execution_count": null,
      "outputs": [
        {
          "output_type": "execute_result",
          "data": {
            "text/plain": [
              "array([False, False, False,  True,  True])"
            ]
          },
          "metadata": {
            "tags": []
          },
          "execution_count": 30
        }
      ]
    },
    {
      "cell_type": "markdown",
      "metadata": {
        "id": "EJsb1RfvYsvz"
      },
      "source": [
        "***"
      ]
    },
    {
      "cell_type": "markdown",
      "metadata": {
        "id": "SLvBLcx9Ysvz"
      },
      "source": [
        "# Making Predictions with Logistic Regression"
      ]
    },
    {
      "cell_type": "markdown",
      "metadata": {
        "id": "sWujH0JvYsv0"
      },
      "source": [
        "$$\\hat{y}=\\frac{1.0}{1.0+e^{-\\beta_0-\\beta_1x_i}}$$\n",
        "\n",
        "$\\beta_0$ is the intecept term\n",
        "\n",
        "$\\beta_1$ is the coefficient for $x_i$\n",
        "\n",
        "$\\hat{y}$ is the predicted output with real value between 0 and 1. To convert this to binary output of 0 or 1, this would either need to be rounded to an integer value or a cutoff point be provided to specify the class segregation point."
      ]
    },
    {
      "cell_type": "code",
      "metadata": {
        "id": "jIK8optAYsv0"
      },
      "source": [
        "dataset = [[-2.0011, 0],\n",
        "           [-1.4654, 0],\n",
        "           [0.0965, 0],\n",
        "           [1.3881, 0],\n",
        "           [3.0641, 0],\n",
        "           [7.6275, 1],\n",
        "           [5.3324, 1],\n",
        "           [6.9225, 1],\n",
        "           [8.6754, 1],\n",
        "           [7.6737, 1]]"
      ],
      "execution_count": null,
      "outputs": []
    },
    {
      "cell_type": "markdown",
      "metadata": {
        "id": "ZX1zbwLKYsv2"
      },
      "source": [
        "Let's say you have been provided with the coefficient"
      ]
    },
    {
      "cell_type": "code",
      "metadata": {
        "jupyter": {
          "outputs_hidden": true
        },
        "id": "cX6jlAngYsv3"
      },
      "source": [
        "coef = [-0.806605464, 0.2573316]"
      ],
      "execution_count": null,
      "outputs": []
    },
    {
      "cell_type": "code",
      "metadata": {
        "id": "1fYQam3sYsv5",
        "outputId": "1b25d0fe-6773-4295-fb15-9202a5216182",
        "colab": {
          "base_uri": "https://localhost:8080/",
          "height": 187
        }
      },
      "source": [
        "for row in dataset:\n",
        "    yhat = 1.0 / (1.0 + np.exp(- coef[0] - coef[1] * row[0]))\n",
        "    print(\"yhat {0:.4f}, yhat {1}\".format(yhat, round(yhat)))"
      ],
      "execution_count": null,
      "outputs": [
        {
          "output_type": "stream",
          "text": [
            "yhat 0.2106, yhat 0.0\n",
            "yhat 0.2344, yhat 0.0\n",
            "yhat 0.3139, yhat 0.0\n",
            "yhat 0.3895, yhat 0.0\n",
            "yhat 0.4955, yhat 0.0\n",
            "yhat 0.7606, yhat 1.0\n",
            "yhat 0.6377, yhat 1.0\n",
            "yhat 0.7261, yhat 1.0\n",
            "yhat 0.8063, yhat 1.0\n",
            "yhat 0.7628, yhat 1.0\n"
          ],
          "name": "stdout"
        }
      ]
    },
    {
      "cell_type": "markdown",
      "metadata": {
        "id": "U_G_kpgLYsv7"
      },
      "source": [
        "***"
      ]
    },
    {
      "cell_type": "markdown",
      "metadata": {
        "id": "sWLsZfvsYsv8"
      },
      "source": [
        "# Learning the Logistic Regression Model\n",
        "\n",
        "The coefficients (Beta values b) of the logistic regression algorithm must be estimated from your training data.\n",
        "\n",
        "* Generally done using [maximum-likelihood estimation](https://en.wikipedia.org/wiki/Maximum_likelihood_estimation).\n",
        "\n",
        "* Maximum-likelihood estimation is a common learning algorithm\n",
        "\n",
        "* Note the underlying assumptions about the distribution of your data\n",
        "\n",
        "* The best coefficients would result in a model that would predict a value very close to 1 (e.g. male) for the default class and a value very close to 0 (e.g. female) for the other class.\n",
        "\n",
        "* The intuition for maximum-likelihood for logistic regression is that a search procedure seeks values for the coefficients (Beta values) that minimize the error in the probabilities predicted by the model to those in the data."
      ]
    },
    {
      "cell_type": "markdown",
      "metadata": {
        "id": "Mekm_TlMYsv8"
      },
      "source": [
        "# Learning with Stochastic Gradient Descent\n",
        "\n",
        "Logistic Regression uses gradient descent to update the coefficients.\n",
        "\n",
        "Each gradient descent iteration, the coefficients are updated using the equation:\n",
        "\n",
        "$$\\beta=\\beta+\\textrm{learning rate}\\times (y-\\hat{y}) \\times \\hat{y} \\times (1-\\hat{y}) \\times x $$\n"
      ]
    },
    {
      "cell_type": "markdown",
      "metadata": {
        "id": "UJfzxdciYsv9"
      },
      "source": [
        "***"
      ]
    },
    {
      "cell_type": "markdown",
      "metadata": {
        "id": "SLpYKz-oYsv9"
      },
      "source": [
        "# Using Scikit Learn to Estimate Coefficients"
      ]
    },
    {
      "cell_type": "code",
      "metadata": {
        "id": "3ift9UWfYsv-"
      },
      "source": [
        "from sklearn.linear_model import LogisticRegression"
      ],
      "execution_count": null,
      "outputs": []
    },
    {
      "cell_type": "code",
      "metadata": {
        "id": "lG2HDR3GYswA",
        "outputId": "f23e76e4-2017-446e-bda2-f825034c953b",
        "colab": {
          "base_uri": "https://localhost:8080/",
          "height": 187
        }
      },
      "source": [
        "dataset"
      ],
      "execution_count": null,
      "outputs": [
        {
          "output_type": "execute_result",
          "data": {
            "text/plain": [
              "[[-2.0011, 0],\n",
              " [-1.4654, 0],\n",
              " [0.0965, 0],\n",
              " [1.3881, 0],\n",
              " [3.0641, 0],\n",
              " [7.6275, 1],\n",
              " [5.3324, 1],\n",
              " [6.9225, 1],\n",
              " [8.6754, 1],\n",
              " [7.6737, 1]]"
            ]
          },
          "metadata": {
            "tags": []
          },
          "execution_count": 35
        }
      ]
    },
    {
      "cell_type": "code",
      "metadata": {
        "id": "su883JsZYswC"
      },
      "source": [
        "X = np.array(dataset)[:, 0:1]\n",
        "y = np.array(dataset)[:, 1]"
      ],
      "execution_count": null,
      "outputs": []
    },
    {
      "cell_type": "code",
      "metadata": {
        "id": "rFYBzQg2YswE",
        "outputId": "a422801a-0945-45bf-8470-bea1f0c00b55",
        "colab": {
          "base_uri": "https://localhost:8080/",
          "height": 187
        }
      },
      "source": [
        "X"
      ],
      "execution_count": null,
      "outputs": [
        {
          "output_type": "execute_result",
          "data": {
            "text/plain": [
              "array([[-2.0011],\n",
              "       [-1.4654],\n",
              "       [ 0.0965],\n",
              "       [ 1.3881],\n",
              "       [ 3.0641],\n",
              "       [ 7.6275],\n",
              "       [ 5.3324],\n",
              "       [ 6.9225],\n",
              "       [ 8.6754],\n",
              "       [ 7.6737]])"
            ]
          },
          "metadata": {
            "tags": []
          },
          "execution_count": 37
        }
      ]
    },
    {
      "cell_type": "code",
      "metadata": {
        "id": "YRYwq84gYswG",
        "outputId": "ea807590-9a65-41ab-8b8b-6e0cc933b90a",
        "colab": {
          "base_uri": "https://localhost:8080/",
          "height": 34
        }
      },
      "source": [
        "y"
      ],
      "execution_count": null,
      "outputs": [
        {
          "output_type": "execute_result",
          "data": {
            "text/plain": [
              "array([0., 0., 0., 0., 0., 1., 1., 1., 1., 1.])"
            ]
          },
          "metadata": {
            "tags": []
          },
          "execution_count": 38
        }
      ]
    },
    {
      "cell_type": "code",
      "metadata": {
        "id": "05xyBfrQYswI"
      },
      "source": [
        "clf_LR = LogisticRegression(C=1.0, penalty='l2', tol=0.0001, solver=\"lbfgs\")"
      ],
      "execution_count": null,
      "outputs": []
    },
    {
      "cell_type": "code",
      "metadata": {
        "id": "MeDA7tHlYswL",
        "outputId": "45cc4f87-2dce-49f6-cb11-9240257e677d",
        "colab": {
          "base_uri": "https://localhost:8080/",
          "height": 102
        }
      },
      "source": [
        "clf_LR.fit(X,y)"
      ],
      "execution_count": null,
      "outputs": [
        {
          "output_type": "execute_result",
          "data": {
            "text/plain": [
              "LogisticRegression(C=1.0, class_weight=None, dual=False, fit_intercept=True,\n",
              "                   intercept_scaling=1, l1_ratio=None, max_iter=100,\n",
              "                   multi_class='warn', n_jobs=None, penalty='l2',\n",
              "                   random_state=None, solver='lbfgs', tol=0.0001, verbose=0,\n",
              "                   warm_start=False)"
            ]
          },
          "metadata": {
            "tags": []
          },
          "execution_count": 40
        }
      ]
    },
    {
      "cell_type": "code",
      "metadata": {
        "id": "l_mSxR3NYswR",
        "outputId": "c4d6606d-3d3d-43e6-89b1-c550b74d8f78",
        "colab": {
          "base_uri": "https://localhost:8080/",
          "height": 34
        }
      },
      "source": [
        "clf_LR.predict(X)"
      ],
      "execution_count": null,
      "outputs": [
        {
          "output_type": "execute_result",
          "data": {
            "text/plain": [
              "array([0., 0., 0., 0., 0., 1., 1., 1., 1., 1.])"
            ]
          },
          "metadata": {
            "tags": []
          },
          "execution_count": 41
        }
      ]
    },
    {
      "cell_type": "code",
      "metadata": {
        "id": "kxsfjKJlYswV",
        "outputId": "23bf2b9e-f9c3-49dc-942b-cfe62aab4967",
        "colab": {
          "base_uri": "https://localhost:8080/",
          "height": 187
        }
      },
      "source": [
        "clf_LR.predict_proba(X)"
      ],
      "execution_count": null,
      "outputs": [
        {
          "output_type": "execute_result",
          "data": {
            "text/plain": [
              "array([[0.99853453, 0.00146547],\n",
              "       [0.99740804, 0.00259196],\n",
              "       [0.98643844, 0.01356156],\n",
              "       [0.94830288, 0.05169712],\n",
              "       [0.75430207, 0.24569793],\n",
              "       [0.02307807, 0.97692193],\n",
              "       [0.21456501, 0.78543499],\n",
              "       [0.04771639, 0.95228361],\n",
              "       [0.00766657, 0.99233343],\n",
              "       [0.02199284, 0.97800716]])"
            ]
          },
          "metadata": {
            "tags": []
          },
          "execution_count": 42
        }
      ]
    },
    {
      "cell_type": "markdown",
      "metadata": {
        "id": "k5BhbyXBYswX"
      },
      "source": [
        "# Further Resources\n",
        "\n",
        "[A comparison of numerical optimizers for logistic regression](https://tminka.github.io/papers/logreg/)\n",
        "\n",
        "[PDF: A comparison of numerical optimizers for logistic regression](https://tminka.github.io/papers/logreg/minka-logreg.pdf)"
      ]
    },
    {
      "cell_type": "markdown",
      "metadata": {
        "id": "vxq7VKEuYswZ"
      },
      "source": [
        "***"
      ]
    },
    {
      "cell_type": "markdown",
      "metadata": {
        "id": "NTe4lJkwYswZ"
      },
      "source": [
        "# Classification Exercise"
      ]
    },
    {
      "cell_type": "code",
      "metadata": {
        "id": "5_SwNPv0Yswa"
      },
      "source": [
        "dataset2 = [[ 0.2,  0. ],\n",
        "            [ 0.2,  0. ],\n",
        "            [ 0.2,  0. ],\n",
        "            [ 0.2,  0. ],\n",
        "            [ 0.2,  0. ],\n",
        "            [ 0.4,  0. ],\n",
        "            [ 0.3,  0. ],\n",
        "            [ 0.2,  0. ],\n",
        "            [ 0.2,  0. ],\n",
        "            [ 0.1,  0. ],\n",
        "            [ 1.4,  1. ],\n",
        "            [ 1.5,  1. ],\n",
        "            [ 1.5,  1. ],\n",
        "            [ 1.3,  1. ],\n",
        "            [ 1.5,  1. ],\n",
        "            [ 1.3,  1. ],\n",
        "            [ 1.6,  1. ],\n",
        "            [ 1. ,  1. ],\n",
        "            [ 1.3,  1. ],\n",
        "            [ 1.4,  1. ]]"
      ],
      "execution_count": null,
      "outputs": []
    },
    {
      "cell_type": "code",
      "metadata": {
        "jupyter": {
          "source_hidden": true
        },
        "id": "nlZ5Z4ZWYswe"
      },
      "source": [
        "X = np.array(dataset2)[:, 0:1]\n",
        "y = np.array(dataset2)[:, 1]"
      ],
      "execution_count": null,
      "outputs": []
    },
    {
      "cell_type": "code",
      "metadata": {
        "collapsed": true,
        "jupyter": {
          "outputs_hidden": true,
          "source_hidden": true
        },
        "id": "jsOFYUCiYswf",
        "outputId": "76607dfc-27ea-4068-b7f9-723d5e7929da",
        "colab": {
          "base_uri": "https://localhost:8080/",
          "height": 102
        }
      },
      "source": [
        "clf_LR = LogisticRegression(C=1.0, penalty='l2', tol=0.0001, solver='lbfgs')\n",
        "\n",
        "clf_LR.fit(X,y)"
      ],
      "execution_count": null,
      "outputs": [
        {
          "output_type": "execute_result",
          "data": {
            "text/plain": [
              "LogisticRegression(C=1.0, class_weight=None, dual=False, fit_intercept=True,\n",
              "                   intercept_scaling=1, l1_ratio=None, max_iter=100,\n",
              "                   multi_class='warn', n_jobs=None, penalty='l2',\n",
              "                   random_state=None, solver='lbfgs', tol=0.0001, verbose=0,\n",
              "                   warm_start=False)"
            ]
          },
          "metadata": {
            "tags": []
          },
          "execution_count": 45
        }
      ]
    },
    {
      "cell_type": "code",
      "metadata": {
        "collapsed": true,
        "jupyter": {
          "outputs_hidden": true,
          "source_hidden": true
        },
        "id": "pkVJxJyYYswh",
        "outputId": "c6c3cddc-5b58-43a0-d639-050e0cf71439",
        "colab": {
          "base_uri": "https://localhost:8080/",
          "height": 51
        }
      },
      "source": [
        "y_pred = clf_LR.predict(X)\n",
        "clf_LR.predict(X)"
      ],
      "execution_count": null,
      "outputs": [
        {
          "output_type": "execute_result",
          "data": {
            "text/plain": [
              "array([0., 0., 0., 0., 0., 0., 0., 0., 0., 0., 1., 1., 1., 1., 1., 1., 1.,\n",
              "       1., 1., 1.])"
            ]
          },
          "metadata": {
            "tags": []
          },
          "execution_count": 46
        }
      ]
    },
    {
      "cell_type": "code",
      "metadata": {
        "collapsed": true,
        "jupyter": {
          "outputs_hidden": true,
          "source_hidden": true
        },
        "id": "G6jUc97jYswj",
        "outputId": "9be9a94d-e519-401e-8221-fb90d0b28200",
        "colab": {
          "base_uri": "https://localhost:8080/",
          "height": 357
        }
      },
      "source": [
        "np.column_stack((y_pred, y))"
      ],
      "execution_count": null,
      "outputs": [
        {
          "output_type": "execute_result",
          "data": {
            "text/plain": [
              "array([[0., 0.],\n",
              "       [0., 0.],\n",
              "       [0., 0.],\n",
              "       [0., 0.],\n",
              "       [0., 0.],\n",
              "       [0., 0.],\n",
              "       [0., 0.],\n",
              "       [0., 0.],\n",
              "       [0., 0.],\n",
              "       [0., 0.],\n",
              "       [1., 1.],\n",
              "       [1., 1.],\n",
              "       [1., 1.],\n",
              "       [1., 1.],\n",
              "       [1., 1.],\n",
              "       [1., 1.],\n",
              "       [1., 1.],\n",
              "       [1., 1.],\n",
              "       [1., 1.],\n",
              "       [1., 1.]])"
            ]
          },
          "metadata": {
            "tags": []
          },
          "execution_count": 47
        }
      ]
    },
    {
      "cell_type": "code",
      "metadata": {
        "id": "MNopJYr2Yswk",
        "outputId": "124b0059-a5b3-40e0-fc00-bbca5f45655c",
        "colab": {
          "base_uri": "https://localhost:8080/",
          "height": 34
        }
      },
      "source": [
        "clf_LR.predict(np.array([0.9]).reshape(1,-1))"
      ],
      "execution_count": null,
      "outputs": [
        {
          "output_type": "execute_result",
          "data": {
            "text/plain": [
              "array([1.])"
            ]
          },
          "metadata": {
            "tags": []
          },
          "execution_count": 48
        }
      ]
    },
    {
      "cell_type": "markdown",
      "metadata": {
        "id": "Pf4nasYLYswn"
      },
      "source": [
        "***"
      ]
    }
  ]
}